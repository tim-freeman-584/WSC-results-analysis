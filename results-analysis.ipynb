{
 "cells": [
  {
   "cell_type": "markdown",
   "metadata": {},
   "source": [
    "# 2018 Results Analysis\n",
    "\n",
    "This notebook contains some analysis of the results of the 2018 season. It includes all Wednesday and Friday evening races over the season but excludes mayhems, pursuit races, club champs and winter series."
   ]
  },
  {
   "cell_type": "markdown",
   "metadata": {},
   "source": [
    "Start by defining some useful functions."
   ]
  },
  {
   "cell_type": "code",
   "execution_count": 1,
   "metadata": {},
   "outputs": [],
   "source": [
    "import urllib.request\n",
    "from bs4 import BeautifulSoup\n",
    "import pandas as pd\n",
    "import matplotlib.pyplot as plt\n",
    "import numpy as np\n",
    "\n",
    "\n",
    "column_headings = [\"HelmName\", \"Class\", \"PY\", \"SailNo\", \"Fleet\", \"Rank\", \"Elapsed\", \"Corrected\", \"Points\", \"Reg No.\", \"Reg Date\"]\n",
    "alternative_headings = [\"HelmName\", \"Class\", \"PY\", \"SailNo\", \"Fleet\", \"Rank\", \"Place\", \"Points\", \"Reg No.\", \"Reg Date\"]\n",
    "fleets = ['Superfast', 'Fast', 'Medium', 'Slow']\n",
    "\n",
    "plt.rcParams['figure.figsize'] = [20, 10]\n",
    "\n",
    "\n",
    "def scrape_race(url):\n",
    "    \"\"\"Scrape all the results for a single race.\"\"\"\n",
    "    print(url)\n",
    "    with urllib.request.urlopen(url) as response:\n",
    "       html = response.read()\n",
    "    \n",
    "    soup = BeautifulSoup(html)\n",
    "    \n",
    "    tables = soup.findAll('table')\n",
    "    return tables[:4]\n",
    "\n",
    "\n",
    "def get_dataframe_from(table):\n",
    "    \"\"\"Turn a table into a data frame.\"\"\"\n",
    "    table_rows = table.find_all('tr')\n",
    "    l = []\n",
    "    for tr in table_rows[1:]:\n",
    "        td = tr.find_all('td')\n",
    "        row = [tr.text for tr in td]\n",
    "        l.append(row)\n",
    "        \n",
    "    # Different column headers are used if there were no results recorded in a fleet.\n",
    "    if l and len(l[0]) == 11:        \n",
    "        df = pd.DataFrame(l, columns=column_headings)\n",
    "    else:\n",
    "        df = pd.DataFrame(l, columns=alternative_headings)\n",
    "        \n",
    "    return df"
   ]
  },
  {
   "cell_type": "markdown",
   "metadata": {},
   "source": [
    "Import all results for all Wednesday and Friday races."
   ]
  },
  {
   "cell_type": "code",
   "execution_count": 2,
   "metadata": {},
   "outputs": [
    {
     "name": "stdout",
     "output_type": "stream",
     "text": [
      "https://www.warsashsc.org.uk/results/18wa1.htm\n",
      "https://www.warsashsc.org.uk/results/18wa2.htm\n",
      "https://www.warsashsc.org.uk/results/18wa3.htm\n",
      "https://www.warsashsc.org.uk/results/18wa4.htm\n",
      "https://www.warsashsc.org.uk/results/18wa5.htm\n",
      "https://www.warsashsc.org.uk/results/18wa6.htm\n",
      "https://www.warsashsc.org.uk/results/18wa7.htm\n",
      "https://www.warsashsc.org.uk/results/18wa8.htm\n",
      "https://www.warsashsc.org.uk/results/18wb1.htm\n",
      "https://www.warsashsc.org.uk/results/18wb2.htm\n",
      "https://www.warsashsc.org.uk/results/18wb3.htm\n",
      "https://www.warsashsc.org.uk/results/18wb4.htm\n",
      "https://www.warsashsc.org.uk/results/18wb5.htm\n",
      "https://www.warsashsc.org.uk/results/18wb6.htm\n",
      "https://www.warsashsc.org.uk/results/18wb7.htm\n",
      "https://www.warsashsc.org.uk/results/18wb8.htm\n",
      "https://www.warsashsc.org.uk/results/18wc1.htm\n",
      "https://www.warsashsc.org.uk/results/18wc2.htm\n",
      "https://www.warsashsc.org.uk/results/18wc3.htm\n",
      "https://www.warsashsc.org.uk/results/18wc4.htm\n",
      "https://www.warsashsc.org.uk/results/18wc5.htm\n",
      "No racing\n",
      "https://www.warsashsc.org.uk/results/18wc6.htm\n",
      "https://www.warsashsc.org.uk/results/18wc7.htm\n",
      "No racing\n",
      "https://www.warsashsc.org.uk/results/18wc8.htm\n",
      "No racing\n",
      "https://www.warsashsc.org.uk/results/18fa1.htm\n",
      "https://www.warsashsc.org.uk/results/18fa2.htm\n",
      "https://www.warsashsc.org.uk/results/18fa3.htm\n",
      "https://www.warsashsc.org.uk/results/18fa4.htm\n",
      "https://www.warsashsc.org.uk/results/18fa5.htm\n",
      "https://www.warsashsc.org.uk/results/18fa6.htm\n",
      "https://www.warsashsc.org.uk/results/18fa7.htm\n",
      "https://www.warsashsc.org.uk/results/18fa8.htm\n",
      "https://www.warsashsc.org.uk/results/18fb1.htm\n",
      "https://www.warsashsc.org.uk/results/18fb2.htm\n",
      "https://www.warsashsc.org.uk/results/18fb3.htm\n",
      "https://www.warsashsc.org.uk/results/18fb4.htm\n",
      "https://www.warsashsc.org.uk/results/18fb5.htm\n",
      "https://www.warsashsc.org.uk/results/18fb6.htm\n",
      "https://www.warsashsc.org.uk/results/18fb7.htm\n",
      "https://www.warsashsc.org.uk/results/18fb8.htm\n",
      "https://www.warsashsc.org.uk/results/18fc1.htm\n",
      "https://www.warsashsc.org.uk/results/18fc2.htm\n",
      "https://www.warsashsc.org.uk/results/18fc3.htm\n",
      "https://www.warsashsc.org.uk/results/18fc4.htm\n",
      "https://www.warsashsc.org.uk/results/18fc5.htm\n",
      "https://www.warsashsc.org.uk/results/18fc6.htm\n",
      "https://www.warsashsc.org.uk/results/18fc7.htm\n",
      "https://www.warsashsc.org.uk/results/18fc8.htm\n",
      "No racing\n"
     ]
    }
   ],
   "source": [
    "base_url = 'https://www.warsashsc.org.uk/results/18'\n",
    "series = ['wa', 'wb', 'wc', 'fa', 'fb', 'fc']\n",
    "\n",
    "all_races_frames = []\n",
    "race_on = []\n",
    "\n",
    "for s in series:\n",
    "    for i in range(1, 9):\n",
    "        try:\n",
    "            race = scrape_race(base_url + s + str(i) + '.htm')\n",
    "            \n",
    "            for table in race:\n",
    "                df = get_dataframe_from(table)\n",
    "                df['Day'] = s[0]\n",
    "                df['Series'] = s[1]\n",
    "                df['Race'] = i\n",
    "\n",
    "                all_races_frames.append(df)\n",
    "                \n",
    "            race_on.append(True)\n",
    "        except:\n",
    "            print('No racing')\n",
    "            race_on.append(False)\n",
    "        \n",
    "        \n",
    "            \n",
    "all_races = pd.concat(all_races_frames, sort=True)"
   ]
  },
  {
   "cell_type": "markdown",
   "metadata": {},
   "source": [
    "## Race Stats"
   ]
  },
  {
   "cell_type": "code",
   "execution_count": 3,
   "metadata": {},
   "outputs": [
    {
     "name": "stdout",
     "output_type": "stream",
     "text": [
      "There were a total of 1337 results recorded.\n",
      "There were a total of 22 OCSs.\n",
      "There were a total of 87 duties recorded.\n",
      "There were a total of 136 DNFs recorded.\n",
      "There were 1250 results posted excluding duties.\n",
      "There were 1082 finishes recorded.\n"
     ]
    }
   ],
   "source": [
    "print('There were a total of %i results recorded.' % len(all_races.index))\n",
    "\n",
    "print('There were a total of %i OCSs.' % (all_races['Elapsed'] == 'OCS').sum())\n",
    "\n",
    "print('There were a total of %i duties recorded.' %(all_races['Elapsed'] == 'Duty').sum())\n",
    "\n",
    "print('There were a total of %i DNFs recorded.' % (all_races['Elapsed'] == 'DNF').sum())\n",
    "\n",
    "excluding_duties = all_races[~all_races['Elapsed'].isin(['Duty'])]\n",
    "print('There were %i results posted excluding duties.' % len(excluding_duties.index))\n",
    "\n",
    "only_finishes = all_races[~all_races['Elapsed'].isin(['Duty', 'OCS', 'DNE', 'DNF', 'DSQ', 'AVG'])]\n",
    "print('There were %i finishes recorded.' % len(only_finishes.index))"
   ]
  },
  {
   "cell_type": "markdown",
   "metadata": {},
   "source": [
    "## Class Analysis"
   ]
  },
  {
   "cell_type": "code",
   "execution_count": 4,
   "metadata": {},
   "outputs": [
    {
     "name": "stdout",
     "output_type": "stream",
     "text": [
      "37 different classes raced in 2018\n",
      "RS 400           169\n",
      "BLAZE             96\n",
      "RS AERO 7         94\n",
      "TOPPER            87\n",
      "FINN              85\n",
      "WAYFARER          84\n",
      "LASER 4.7         80\n",
      "BUZZ              63\n",
      "LASER RADIAL      55\n",
      "LASER PICO        41\n",
      "RS 200            40\n",
      "LASER 2000        37\n",
      "HADRON H2         31\n",
      "D ONE             25\n",
      "STREAKER          24\n",
      "LASER             24\n",
      "WANDERER          23\n",
      "NAT 12            20\n",
      "RS FEVA XL        20\n",
      "CONTENDER         17\n",
      "MIRROR            17\n",
      "GRADUATE          17\n",
      "420               15\n",
      "RS 300            15\n",
      "D ZERO            14\n",
      "KESTREL            9\n",
      "LASER STRATOS      9\n",
      "D ZERO BLUE        8\n",
      "ALBACORE           8\n",
      "LASER VAGO XD      6\n",
      "TASAR              5\n",
      "OSPREY             3\n",
      "RS AERO 5          3\n",
      "HOBIE 405          3\n",
      "LARK               1\n",
      "Hobie 405          1\n",
      "RS 100 8.4         1\n",
      "Name: Class, dtype: int64\n"
     ]
    }
   ],
   "source": [
    "classes_frequency = excluding_duties['Class'].value_counts()\n",
    "\n",
    "py_by_class = {}\n",
    "for c in excluding_duties['Class'].unique():\n",
    "    py_by_class[c] = excluding_duties.loc[excluding_duties['Class'] == c, 'PY'].iloc[0]\n",
    "\n",
    "print('%i different classes raced in 2018' % len(classes_frequency))\n",
    "print(classes_frequency)"
   ]
  },
  {
   "cell_type": "code",
   "execution_count": 5,
   "metadata": {},
   "outputs": [
    {
     "data": {
      "text/plain": [
       "Text(0.5, 1.0, 'Distribution of races completed by PY')"
      ]
     },
     "execution_count": 5,
     "metadata": {},
     "output_type": "execute_result"
    },
    {
     "data": {
      "image/png": "[encoded data removed]",
      "text/plain": [
       "<Figure size 432x288 with 1 Axes>"
      ]
     },
     "metadata": {
      "needs_background": "light"
     },
     "output_type": "display_data"
    }
   ],
   "source": [
    "pys = excluding_duties['PY'].astype(int).tolist()\n",
    "\n",
    "plt.hist(pys, bins=30)\n",
    "plt.xlabel('PY')\n",
    "plt.xticks(np.arange(min(pys), max(pys), 50))\n",
    "plt.title('Distribution of races completed by PY')"
   ]
  },
  {
   "cell_type": "markdown",
   "metadata": {},
   "source": [
    "## Series Analysis"
   ]
  },
  {
   "cell_type": "code",
   "execution_count": 6,
   "metadata": {},
   "outputs": [
    {
     "name": "stdout",
     "output_type": "stream",
     "text": [
      "Wednesday series total results\n",
      "a    277\n",
      "b    260\n",
      "c    160\n",
      "Name: Series, dtype: int64\n",
      "Friday series total results\n",
      "a    226\n",
      "b    199\n",
      "c    128\n",
      "Name: Series, dtype: int64\n"
     ]
    }
   ],
   "source": [
    "print('Wednesday series total results')\n",
    "print(excluding_duties[excluding_duties['Day'] == 'w']['Series'].value_counts())\n",
    "print('Friday series total results')\n",
    "print(excluding_duties[excluding_duties['Day'] == 'f']['Series'].value_counts())"
   ]
  },
  {
   "cell_type": "code",
   "execution_count": 7,
   "metadata": {},
   "outputs": [],
   "source": [
    "# Count the numbers in each fleet in each Wednesday race.\n",
    "fleet_numbers = {}\n",
    "for fleet in fleets:\n",
    "    fleet_numbers[fleet] =[]\n",
    "\n",
    "wednesdays = excluding_duties[excluding_duties['Day'] == 'w']\n",
    "for s in ['a', 'b', 'c']:\n",
    "    wed_series = wednesdays[wednesdays['Series'] == s]\n",
    "    for r in range(1, 9):\n",
    "        race_numbers = wed_series[wed_series['Race'] == r]['Fleet'].value_counts()\n",
    "        for fleet in fleets:\n",
    "            if fleet in race_numbers:\n",
    "                fleet_numbers[fleet].append(race_numbers[fleet])\n",
    "            else:\n",
    "                fleet_numbers[fleet].append(0)"
   ]
  },
  {
   "cell_type": "code",
   "execution_count": 8,
   "metadata": {},
   "outputs": [
    {
     "name": "stdout",
     "output_type": "stream",
     "text": [
      "Superfast\n",
      "Min = 3\n",
      "Max = 14\n",
      "Mean = 8.619048\n",
      "Median = 8\n",
      "\n",
      "Fast\n",
      "Min = 9\n",
      "Max = 25\n",
      "Mean = 16.809524\n",
      "Median = 17\n",
      "\n",
      "Medium\n",
      "Min = 1\n",
      "Max = 9\n",
      "Mean = 4.904762\n",
      "Median = 5\n",
      "\n",
      "Slow\n",
      "Min = 0\n",
      "Max = 6\n",
      "Mean = 2.857143\n",
      "Median = 3\n",
      "\n"
     ]
    }
   ],
   "source": [
    "for fleet in fleets:\n",
    "    # Remove cancelled races\n",
    "    frequencies = [n for i, n in enumerate(fleet_numbers[fleet]) if race_on[i]]\n",
    "                   \n",
    "    print(fleet)\n",
    "    print('Min = %i' % min(frequencies))\n",
    "    print('Max = %i' % max(frequencies))\n",
    "    print('Mean = %f' % np.mean(frequencies))\n",
    "    print('Median = %i' % np.median(frequencies))\n",
    "    print()"
   ]
  },
  {
   "cell_type": "code",
   "execution_count": 9,
   "metadata": {},
   "outputs": [
    {
     "data": {
      "text/plain": [
       "Text(0.5, 1.0, 'Numbers in Each Fleet on Wednesdays')"
      ]
     },
     "execution_count": 9,
     "metadata": {},
     "output_type": "execute_result"
    },
    {
     "data": {
      "image/png": "[encoded data removed]",
      "text/plain": [
       "<Figure size 432x288 with 1 Axes>"
      ]
     },
     "metadata": {
      "needs_background": "light"
     },
     "output_type": "display_data"
    }
   ],
   "source": [
    "for fleet in fleets:\n",
    "    plt.plot((fleet_numbers[fleet]), label=fleet)\n",
    "plt.legend(fleets)\n",
    "plt.xlabel('Race')\n",
    "plt.ylabel('Number in Fleet')\n",
    "plt.title('Numbers in Each Fleet on Wednesdays')"
   ]
  },
  {
   "cell_type": "markdown",
   "metadata": {},
   "source": [
    "## Race Lengths"
   ]
  },
  {
   "cell_type": "code",
   "execution_count": 10,
   "metadata": {},
   "outputs": [],
   "source": [
    "ftr = [3600, 60, 1]\n",
    "i = 0\n",
    "lengths_by_fleet = {}\n",
    "for fleet in fleets:\n",
    "    lengths_by_fleet[fleet] =[]\n",
    "    \n",
    "wednesday_finishes = only_finishes[only_finishes['Day'] == 'w']\n",
    "for s in ['a', 'b', 'c']:\n",
    "    wed_series = wednesday_finishes[wednesday_finishes['Series'] == s]\n",
    "    for r in range(1, 9):\n",
    "        if race_on[i]:\n",
    "            results_for_race = wed_series[wed_series['Race'] == r]\n",
    "            for fleet in fleets:\n",
    "                results_for_fleet = results_for_race[results_for_race['Fleet'] == fleet]\n",
    "                for i, result in results_for_fleet.iterrows():\n",
    "                    try:\n",
    "                        time_in_s = sum([a*b for a,b in zip(ftr, map(int, result['Elapsed'].split(':')))])\n",
    "                        lengths_by_fleet[fleet].append(time_in_s)\n",
    "                    except Exception as e:\n",
    "                        pass\n",
    "    i += 1"
   ]
  },
  {
   "cell_type": "code",
   "execution_count": 11,
   "metadata": {},
   "outputs": [
    {
     "name": "stdout",
     "output_type": "stream",
     "text": [
      "Superfast\n",
      "Min = 2638\n",
      "Max = 6191\n",
      "Mean = 4402.500000\n",
      "Median = 4355\n",
      "\n",
      "Fast\n",
      "Min = 2238\n",
      "Max = 6272\n",
      "Mean = 4272.633898\n",
      "Median = 4162\n",
      "\n",
      "Medium\n",
      "Min = 1831\n",
      "Max = 5430\n",
      "Mean = 3560.674419\n",
      "Median = 3630\n",
      "\n",
      "Slow\n",
      "Min = 2168\n",
      "Max = 5414\n",
      "Mean = 3315.613636\n",
      "Median = 3119\n",
      "\n"
     ]
    }
   ],
   "source": [
    "for fleet in fleets:                  \n",
    "    print(fleet)\n",
    "    print('Min = %i' % min(lengths_by_fleet[fleet]))\n",
    "    print('Max = %i' % max(lengths_by_fleet[fleet]))\n",
    "    print('Mean = %f' % np.mean(lengths_by_fleet[fleet]))\n",
    "    print('Median = %i' % np.median(lengths_by_fleet[fleet]))\n",
    "    print()"
   ]
  },
  {
   "cell_type": "code",
   "execution_count": 12,
   "metadata": {},
   "outputs": [
    {
     "data": {
      "text/plain": [
       "Text(0.5, 1.0, 'Distribution of Wednesday Race Times for Superfast')"
      ]
     },
     "execution_count": 12,
     "metadata": {},
     "output_type": "execute_result"
    },
    {
     "data": {
      "image/png": "[encoded data removed]",
      "text/plain": [
       "<Figure size 432x288 with 1 Axes>"
      ]
     },
     "metadata": {
      "needs_background": "light"
     },
     "output_type": "display_data"
    }
   ],
   "source": [
    "plt.hist(lengths_by_fleet['Superfast'], bins=20)\n",
    "plt.title('Distribution of Wednesday Race Times for Superfast')"
   ]
  },
  {
   "cell_type": "code",
   "execution_count": 13,
   "metadata": {},
   "outputs": [
    {
     "data": {
      "text/plain": [
       "Text(0.5, 1.0, 'Distribution of Wednesday Race Times for Fast')"
      ]
     },
     "execution_count": 13,
     "metadata": {},
     "output_type": "execute_result"
    },
    {
     "data": {
      "image/png": "[encoded data removed]",
      "text/plain": [
       "<Figure size 432x288 with 1 Axes>"
      ]
     },
     "metadata": {
      "needs_background": "light"
     },
     "output_type": "display_data"
    }
   ],
   "source": [
    "plt.hist(lengths_by_fleet['Fast'], bins=20)\n",
    "plt.title('Distribution of Wednesday Race Times for Fast')"
   ]
  },
  {
   "cell_type": "code",
   "execution_count": 14,
   "metadata": {},
   "outputs": [
    {
     "data": {
      "text/plain": [
       "Text(0.5, 1.0, 'Distribution of Wednesday Race Times for Medium')"
      ]
     },
     "execution_count": 14,
     "metadata": {},
     "output_type": "execute_result"
    },
    {
     "data": {
      "image/png": "[encoded data removed]",
      "text/plain": [
       "<Figure size 432x288 with 1 Axes>"
      ]
     },
     "metadata": {
      "needs_background": "light"
     },
     "output_type": "display_data"
    }
   ],
   "source": [
    "plt.hist(lengths_by_fleet['Medium'], bins=20)\n",
    "plt.title('Distribution of Wednesday Race Times for Medium')"
   ]
  },
  {
   "cell_type": "code",
   "execution_count": 15,
   "metadata": {},
   "outputs": [
    {
     "data": {
      "text/plain": [
       "Text(0.5, 1.0, 'Distribution of Wednesday Race Times for Slow')"
      ]
     },
     "execution_count": 15,
     "metadata": {},
     "output_type": "execute_result"
    },
    {
     "data": {
      "image/png": "[encoded data removed]",
      "text/plain": [
       "<Figure size 432x288 with 1 Axes>"
      ]
     },
     "metadata": {
      "needs_background": "light"
     },
     "output_type": "display_data"
    }
   ],
   "source": [
    "plt.hist(lengths_by_fleet['Slow'], bins=20)\n",
    "plt.title('Distribution of Wednesday Race Times for Slow')"
   ]
  },
  {
   "cell_type": "markdown",
   "metadata": {},
   "source": [
    "## Sailors"
   ]
  },
  {
   "cell_type": "code",
   "execution_count": 16,
   "metadata": {},
   "outputs": [
    {
     "data": {
      "text/plain": [
       "Mark Turner            33\n",
       "Heather Aitken         32\n",
       "Trevor Bryant          30\n",
       "Bruce Mills            30\n",
       "Stuart Aitken          29\n",
       "Rob Jones              28\n",
       "Isaac Greaves          28\n",
       "Tim Norris             27\n",
       "Bob Cowan              26\n",
       "Edwin Van Der Merwe    25\n",
       "John Heyes             25\n",
       "Mary Ann Paddison      23\n",
       "Steven Sherwood        22\n",
       "Amy Smith              22\n",
       "Nick Thorne            21\n",
       "Phil Bull              21\n",
       "Peter Vinton           21\n",
       "Geoff Camm             21\n",
       "David Swift            21\n",
       "Phoebe Hutchings       20\n",
       "Andy Powell            20\n",
       "Lizzy McCormack        19\n",
       "Tom Crew               18\n",
       "Martin Hughes          18\n",
       "Freya Anderson         18\n",
       "Tim Freeman            18\n",
       "Andrew Bell            18\n",
       "Andy McCormack         17\n",
       "Ian Dawson             17\n",
       "Matt Johnston          17\n",
       "                       ..\n",
       "Nick Crane              3\n",
       "Charlotte Jenkins       3\n",
       "Mathias Potter          3\n",
       "Andrew Blundell         3\n",
       "Jeremy Smart            3\n",
       "Max Budgen              3\n",
       "Will Jarman             3\n",
       "Amanda Bailey           3\n",
       "James Crew              2\n",
       "H Beardsall             2\n",
       "Heather Ross            2\n",
       "Bertie Edmondson        2\n",
       "Paul Smith              2\n",
       "Alex Rhodes             2\n",
       "Stu Davies              2\n",
       "Henry Camm              2\n",
       "Vince Hayter            1\n",
       "Eloise Hutchings        1\n",
       "Chris Rees              1\n",
       "Thomas Allen            1\n",
       "Henry Beardsall         1\n",
       "Nigel Dodd              1\n",
       "Stu Miller              1\n",
       "Dan Dingwall            1\n",
       "William Morris          1\n",
       "Tom Gall                1\n",
       "James Ward              1\n",
       "Neil Scanlon            1\n",
       "John Allen              1\n",
       "Jake Bonsor             1\n",
       "Name: HelmName, Length: 117, dtype: int64"
      ]
     },
     "execution_count": 16,
     "metadata": {},
     "output_type": "execute_result"
    }
   ],
   "source": [
    "excluding_duties['HelmName'].value_counts()"
   ]
  },
  {
   "cell_type": "markdown",
   "metadata": {},
   "source": [
    "## 2019 Fleet Proposals"
   ]
  },
  {
   "cell_type": "code",
   "execution_count": 24,
   "metadata": {},
   "outputs": [],
   "source": [
    "def display_fleet_proposal_stats(fast, medium, slow):\n",
    "    \"\"\"Display fleet stats for a given proposal.\"\"\"\n",
    "    fleet_numbers = {}\n",
    "    for fleet in fleets:\n",
    "        fleet_numbers[fleet] =[]\n",
    "\n",
    "    wednesdays = excluding_duties[excluding_duties['Day'] == 'w']\n",
    "    for s in ['a', 'b', 'c']:\n",
    "        wed_series = wednesdays[wednesdays['Series'] == s]\n",
    "        for r in range(1, 9):\n",
    "            for fleet in fleets:\n",
    "                fleet_numbers[fleet].append(0)\n",
    "            for i, result in wed_series[wed_series['Race'] == r].iterrows():\n",
    "                py = int(result['PY'])\n",
    "                if py < fast:\n",
    "                    fleet = 'Superfast'\n",
    "                elif py < medium:\n",
    "                    fleet = 'Fast'\n",
    "                elif py < slow:\n",
    "                    fleet = 'Medium'\n",
    "                else:\n",
    "                    fleet = 'Slow'\n",
    "                fleet_numbers[fleet][-1] += 1\n",
    "                    \n",
    "    for fleet in fleets:\n",
    "        # Remove cancelled races\n",
    "        frequencies = [n for i, n in enumerate(fleet_numbers[fleet]) if race_on[i]]\n",
    "\n",
    "        print(fleet)\n",
    "        print('Min = %i' % min(frequencies))\n",
    "        print('Max = %i' % max(frequencies))\n",
    "        print('Mean = %f' % np.mean(frequencies))\n",
    "        print('Median = %i' % np.median(frequencies))\n",
    "        print()"
   ]
  },
  {
   "cell_type": "code",
   "execution_count": 30,
   "metadata": {},
   "outputs": [
    {
     "name": "stdout",
     "output_type": "stream",
     "text": [
      "Superfast\n",
      "Min = 4\n",
      "Max = 18\n",
      "Mean = 11.619048\n",
      "Median = 12\n",
      "\n",
      "Fast\n",
      "Min = 6\n",
      "Max = 16\n",
      "Mean = 10.047619\n",
      "Median = 10\n",
      "\n",
      "Medium\n",
      "Min = 2\n",
      "Max = 13\n",
      "Mean = 6.714286\n",
      "Median = 6\n",
      "\n",
      "Slow\n",
      "Min = 3\n",
      "Max = 9\n",
      "Mean = 4.809524\n",
      "Median = 4\n",
      "\n"
     ]
    }
   ],
   "source": [
    "display_fleet_proposal_stats(1030, 1090, 1200)"
   ]
  },
  {
   "cell_type": "code",
   "execution_count": null,
   "metadata": {},
   "outputs": [],
   "source": []
  }
 ],
 "metadata": {
  "kernelspec": {
   "display_name": "Python 3",
   "language": "python",
   "name": "python3"
  },
  "language_info": {
   "codemirror_mode": {
    "name": "ipython",
    "version": 3
   },
   "file_extension": ".py",
   "mimetype": "text/x-python",
   "name": "python",
   "nbconvert_exporter": "python",
   "pygments_lexer": "ipython3",
   "version": "3.6.3"
  }
 },
 "nbformat": 4,
 "nbformat_minor": 1
}
