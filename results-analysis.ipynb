{
 "cells": [
  {
   "cell_type": "markdown",
   "metadata": {},
   "source": [
    "# 2018 Results Analysis\n",
    "\n",
    "This notebook contains some analysis of the results of the 2018 season. It includes all Wednesday and Friday evening races over the season but excludes mayhems, pursuit races, club champs and winter series."
   ]
  },
  {
   "cell_type": "markdown",
   "metadata": {},
   "source": [
    "Start by defining some useful functions."
   ]
  },
  {
   "cell_type": "code",
   "execution_count": null,
   "metadata": {},
   "outputs": [],
   "source": [
    "import urllib.request\n",
    "from bs4 import BeautifulSoup\n",
    "import pandas as pd\n",
    "import matplotlib.pyplot as plt\n",
    "import numpy as np\n",
    "\n",
    "\n",
    "column_headings = [\"HelmName\", \"Class\", \"PY\", \"SailNo\", \"Fleet\", \"Rank\", \"Elapsed\", \"Corrected\", \"Points\", \"Reg No.\", \"Reg Date\"]\n",
    "alternative_headings = [\"HelmName\", \"Class\", \"PY\", \"SailNo\", \"Fleet\", \"Rank\", \"Place\", \"Points\", \"Reg No.\", \"Reg Date\"]\n",
    "fleets = ['Superfast', 'Fast', 'Medium', 'Slow']\n",
    "\n",
    "plt.rcParams['figure.figsize'] = [20, 10]\n",
    "\n",
    "\n",
    "def scrape_race(url):\n",
    "    \"\"\"Scrape all the results for a single race.\"\"\"\n",
    "    print(url)\n",
    "    with urllib.request.urlopen(url) as response:\n",
    "       html = response.read()\n",
    "    \n",
    "    soup = BeautifulSoup(html)\n",
    "    \n",
    "    tables = soup.findAll('table')\n",
    "    return tables[:4]\n",
    "\n",
    "\n",
    "def get_dataframe_from(table):\n",
    "    \"\"\"Turn a table into a data frame.\"\"\"\n",
    "    table_rows = table.find_all('tr')\n",
    "    l = []\n",
    "    for tr in table_rows[1:]:\n",
    "        td = tr.find_all('td')\n",
    "        row = [tr.text for tr in td]\n",
    "        l.append(row)\n",
    "        \n",
    "    # Different column headers are used if there were no results recorded in a fleet.\n",
    "    if l and len(l[0]) == 11:        \n",
    "        df = pd.DataFrame(l, columns=column_headings)\n",
    "    else:\n",
    "        df = pd.DataFrame(l, columns=alternative_headings)\n",
    "        \n",
    "    return df"
   ]
  },
  {
   "cell_type": "markdown",
   "metadata": {},
   "source": [
    "Import all results for all Wednesday and Friday races."
   ]
  },
  {
   "cell_type": "code",
   "execution_count": null,
   "metadata": {},
   "outputs": [],
   "source": [
    "base_url = 'https://www.warsashsc.org.uk/results/18'\n",
    "series = ['wa', 'wb', 'wc', 'fa', 'fb', 'fc']\n",
    "\n",
    "all_races_frames = []\n",
    "race_on = []\n",
    "\n",
    "for s in series:\n",
    "    for i in range(1, 9):\n",
    "        try:\n",
    "            race = scrape_race(base_url + s + str(i) + '.htm')\n",
    "            \n",
    "            for table in race:\n",
    "                df = get_dataframe_from(table)\n",
    "                df['Day'] = s[0]\n",
    "                df['Series'] = s[1]\n",
    "                df['Race'] = i\n",
    "\n",
    "                all_races_frames.append(df)\n",
    "                \n",
    "            race_on.append(True)\n",
    "        except:\n",
    "            print('No racing')\n",
    "            race_on.append(False)\n",
    "        \n",
    "        \n",
    "            \n",
    "all_races = pd.concat(all_races_frames, sort=True)"
   ]
  },
  {
   "cell_type": "markdown",
   "metadata": {},
   "source": [
    "## Race Stats"
   ]
  },
  {
   "cell_type": "code",
   "execution_count": null,
   "metadata": {},
   "outputs": [],
   "source": [
    "print('There were a total of %i results recorded.' % len(all_races.index))\n",
    "\n",
    "print('There were a total of %i OCSs.' % (all_races['Elapsed'] == 'OCS').sum())\n",
    "\n",
    "print('There were a total of %i duties recorded.' %(all_races['Elapsed'] == 'Duty').sum())\n",
    "\n",
    "print('There were a total of %i DNFs recorded.' % (all_races['Elapsed'] == 'DNF').sum())\n",
    "\n",
    "excluding_duties = all_races[~all_races['Elapsed'].isin(['Duty'])]\n",
    "print('There were %i results posted excluding duties.' % len(excluding_duties.index))\n",
    "\n",
    "only_finishes = all_races[~all_races['Elapsed'].isin(['Duty', 'OCS', 'DNE', 'DNF', 'DSQ', 'AVG'])]\n",
    "print('There were %i finishes recorded.' % len(only_finishes.index))"
   ]
  },
  {
   "cell_type": "markdown",
   "metadata": {},
   "source": [
    "## Class Analysis"
   ]
  },
  {
   "cell_type": "code",
   "execution_count": null,
   "metadata": {},
   "outputs": [],
   "source": [
    "classes_frequency = excluding_duties['Class'].value_counts()\n",
    "\n",
    "py_by_class = {}\n",
    "for c in excluding_duties['Class'].unique():\n",
    "    py_by_class[c] = excluding_duties.loc[excluding_duties['Class'] == c, 'PY'].iloc[0]\n",
    "\n",
    "print('%i different classes raced in 2018' % len(classes_frequency))\n",
    "print(classes_frequency)"
   ]
  },
  {
   "cell_type": "code",
   "execution_count": null,
   "metadata": {},
   "outputs": [],
   "source": [
    "pys = excluding_duties['PY'].astype(int).tolist()\n",
    "\n",
    "plt.hist(pys, bins=30)\n",
    "plt.xlabel('PY')\n",
    "plt.xticks(np.arange(min(pys), max(pys), 50))\n",
    "plt.title('Distribution of races completed by PY')"
   ]
  },
  {
   "cell_type": "markdown",
   "metadata": {},
   "source": [
    "## Series Analysis"
   ]
  },
  {
   "cell_type": "code",
   "execution_count": null,
   "metadata": {},
   "outputs": [],
   "source": [
    "print('Wednesday series total results')\n",
    "print(excluding_duties[excluding_duties['Day'] == 'w']['Series'].value_counts())\n",
    "print('Friday series total results')\n",
    "print(excluding_duties[excluding_duties['Day'] == 'f']['Series'].value_counts())"
   ]
  },
  {
   "cell_type": "code",
   "execution_count": null,
   "metadata": {},
   "outputs": [],
   "source": [
    "# Count the numbers in each fleet in each Wednesday race.\n",
    "fleet_numbers = {}\n",
    "for fleet in fleets:\n",
    "    fleet_numbers[fleet] =[]\n",
    "\n",
    "wednesdays = excluding_duties[excluding_duties['Day'] == 'w']\n",
    "for s in ['a', 'b', 'c']:\n",
    "    wed_series = wednesdays[wednesdays['Series'] == s]\n",
    "    for r in range(1, 9):\n",
    "        race_numbers = wed_series[wed_series['Race'] == r]['Fleet'].value_counts()\n",
    "        for fleet in fleets:\n",
    "            if fleet in race_numbers:\n",
    "                fleet_numbers[fleet].append(race_numbers[fleet])\n",
    "            else:\n",
    "                fleet_numbers[fleet].append(0)"
   ]
  },
  {
   "cell_type": "code",
   "execution_count": null,
   "metadata": {},
   "outputs": [],
   "source": [
    "for fleet in fleets:\n",
    "    # Remove cancelled races\n",
    "    frequencies = [n for i, n in enumerate(fleet_numbers[fleet]) if race_on[i]]\n",
    "                   \n",
    "    print(fleet)\n",
    "    print('Min = %i' % min(frequencies))\n",
    "    print('Max = %i' % max(frequencies))\n",
    "    print('Mean = %f' % np.mean(frequencies))\n",
    "    print('Median = %i' % np.median(frequencies))\n",
    "    print()"
   ]
  },
  {
   "cell_type": "code",
   "execution_count": null,
   "metadata": {},
   "outputs": [],
   "source": [
    "for fleet in fleets:\n",
    "    plt.plot((fleet_numbers[fleet]), label=fleet)\n",
    "plt.legend(fleets)\n",
    "plt.xlabel('Race')\n",
    "plt.ylabel('Number in Fleet')\n",
    "plt.title('Numbers in Each Fleet on Wednesdays')"
   ]
  },
  {
   "cell_type": "markdown",
   "metadata": {},
   "source": [
    "## Race Lengths"
   ]
  },
  {
   "cell_type": "code",
   "execution_count": null,
   "metadata": {},
   "outputs": [],
   "source": [
    "ftr = [3600, 60, 1]\n",
    "i = 0\n",
    "lengths_by_fleet = {}\n",
    "for fleet in fleets:\n",
    "    lengths_by_fleet[fleet] =[]\n",
    "    \n",
    "wednesday_finishes = only_finishes[only_finishes['Day'] == 'w']\n",
    "for s in ['a', 'b', 'c']:\n",
    "    wed_series = wednesday_finishes[wednesday_finishes['Series'] == s]\n",
    "    for r in range(1, 9):\n",
    "        if race_on[i]:\n",
    "            results_for_race = wed_series[wed_series['Race'] == r]\n",
    "            for fleet in fleets:\n",
    "                results_for_fleet = results_for_race[results_for_race['Fleet'] == fleet]\n",
    "                for i, result in results_for_fleet.iterrows():\n",
    "                    try:\n",
    "                        time_in_s = sum([a*b for a,b in zip(ftr, map(int, result['Elapsed'].split(':')))])\n",
    "                        lengths_by_fleet[fleet].append(time_in_s)\n",
    "                    except Exception as e:\n",
    "                        pass\n",
    "    i += 1"
   ]
  },
  {
   "cell_type": "code",
   "execution_count": null,
   "metadata": {},
   "outputs": [],
   "source": [
    "for fleet in fleets:                  \n",
    "    print(fleet)\n",
    "    print('Min = %i' % min(lengths_by_fleet[fleet]))\n",
    "    print('Max = %i' % max(lengths_by_fleet[fleet]))\n",
    "    print('Mean = %f' % np.mean(lengths_by_fleet[fleet]))\n",
    "    print('Median = %i' % np.median(lengths_by_fleet[fleet]))\n",
    "    print()"
   ]
  },
  {
   "cell_type": "code",
   "execution_count": null,
   "metadata": {},
   "outputs": [],
   "source": [
    "plt.hist(lengths_by_fleet['Superfast'], bins=20)\n",
    "plt.title('Distribution of Wednesday Race Times for Superfast')"
   ]
  },
  {
   "cell_type": "code",
   "execution_count": null,
   "metadata": {},
   "outputs": [],
   "source": [
    "plt.hist(lengths_by_fleet['Fast'], bins=20)\n",
    "plt.title('Distribution of Wednesday Race Times for Fast')"
   ]
  },
  {
   "cell_type": "code",
   "execution_count": null,
   "metadata": {},
   "outputs": [],
   "source": [
    "plt.hist(lengths_by_fleet['Medium'], bins=20)\n",
    "plt.title('Distribution of Wednesday Race Times for Medium')"
   ]
  },
  {
   "cell_type": "code",
   "execution_count": null,
   "metadata": {},
   "outputs": [],
   "source": [
    "plt.hist(lengths_by_fleet['Slow'], bins=20)\n",
    "plt.title('Distribution of Wednesday Race Times for Slow')"
   ]
  },
  {
   "cell_type": "markdown",
   "metadata": {},
   "source": [
    "## Sailors"
   ]
  },
  {
   "cell_type": "code",
   "execution_count": null,
   "metadata": {},
   "outputs": [],
   "source": [
    "excluding_duties['HelmName'].value_counts()"
   ]
  },
  {
   "cell_type": "markdown",
   "metadata": {},
   "source": [
    "## 2019 Fleet Proposals"
   ]
  },
  {
   "cell_type": "code",
   "execution_count": null,
   "metadata": {},
   "outputs": [],
   "source": [
    "def display_fleet_proposal_stats(fast, medium, slow):\n",
    "    \"\"\"Display fleet stats for a given proposal.\"\"\"\n",
    "    fleet_numbers = {}\n",
    "    for fleet in fleets:\n",
    "        fleet_numbers[fleet] =[]\n",
    "\n",
    "    wednesdays = excluding_duties[excluding_duties['Day'] == 'w']\n",
    "    for s in ['a', 'b', 'c']:\n",
    "        wed_series = wednesdays[wednesdays['Series'] == s]\n",
    "        for r in range(1, 9):\n",
    "            for fleet in fleets:\n",
    "                fleet_numbers[fleet].append(0)\n",
    "            for i, result in wed_series[wed_series['Race'] == r].iterrows()\n",
    "                py = result['PY']\n",
    "                if py > fast:\n",
    "                    fleet = 'Superfast'\n",
    "                elif py > medium:\n",
    "                    fleet = 'Fast'\n",
    "                elif py > slow:\n",
    "                    fleet = 'Slow'\n",
    "                fleet_numbers[fleet][-1] += 1\n",
    "                    \n",
    "    for fleet in fleets:\n",
    "        # Remove cancelled races\n",
    "        frequencies = [n for i, n in enumerate(fleet_numbers[fleet]) if race_on[i]]\n",
    "\n",
    "        print(fleet)\n",
    "        print('Min = %i' % min(frequencies))\n",
    "        print('Max = %i' % max(frequencies))\n",
    "        print('Mean = %f' % np.mean(frequencies))\n",
    "        print('Median = %i' % np.median(frequencies))\n",
    "        print()"
   ]
  },
  {
   "cell_type": "code",
   "execution_count": null,
   "metadata": {},
   "outputs": [],
   "source": [
    "display_fleet_proposal_stats(1025, 1100, 1200)"
   ]
  }
 ],
 "metadata": {
  "kernelspec": {
   "display_name": "Python 3",
   "language": "python",
   "name": "python3"
  },
  "language_info": {
   "codemirror_mode": {
    "name": "ipython",
    "version": 3
   },
   "file_extension": ".py",
   "mimetype": "text/x-python",
   "name": "python",
   "nbconvert_exporter": "python",
   "pygments_lexer": "ipython3",
   "version": "3.6.4"
  }
 },
 "nbformat": 4,
 "nbformat_minor": 1
}
