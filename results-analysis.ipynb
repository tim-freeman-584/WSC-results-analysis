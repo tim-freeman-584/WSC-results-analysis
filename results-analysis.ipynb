{
 "cells": [
  {
   "cell_type": "code",
   "execution_count": 1,
   "metadata": {},
   "outputs": [],
   "source": [
    "import urllib.request\n",
    "from bs4 import BeautifulSoup\n",
    "import pandas as pd\n",
    "\n",
    "\n",
    "column_headings = [\"HelmName\", \"Class\", \"PY\", \"SailNo\", \"Fleet\", \"Rank\", \"Elapsed\", \"Corrected\", \"Points\", \"Reg No.\", \"Reg Date\"]\n",
    "alternative_headings = [\"HelmName\", \"Class\", \"PY\", \"SailNo\", \"Fleet\", \"Rank\", \"Place\", \"Points\", \"Reg No.\", \"Reg Date\"]\n",
    "\n",
    "def scrape_race(url):\n",
    "    \"\"\"Scrape all the results for a single race.\"\"\"\n",
    "    print(url)\n",
    "    with urllib.request.urlopen(url) as response:\n",
    "       html = response.read()\n",
    "    \n",
    "    soup = BeautifulSoup(html)\n",
    "    \n",
    "    tables = soup.findAll('table')\n",
    "    return tables[:4]\n",
    "\n",
    "\n",
    "def get_dataframe_from(table):\n",
    "    \"\"\"Turn a table into a data frame.\"\"\"\n",
    "    table_rows = table.find_all('tr')\n",
    "    l = []\n",
    "    for tr in table_rows[1:]:\n",
    "        td = tr.find_all('td')\n",
    "        row = [tr.text for tr in td]\n",
    "        l.append(row)\n",
    "        \n",
    "    # Different column headers are used if there were no results recorded in a fleet.\n",
    "    if l and len(l[0]) == 11:        \n",
    "        df = pd.DataFrame(l, columns=column_headings)\n",
    "    else:\n",
    "        df = pd.DataFrame(l, columns=alternative_headings)\n",
    "        \n",
    "    return df"
   ]
  },
  {
   "cell_type": "code",
   "execution_count": null,
   "metadata": {},
   "outputs": [
    {
     "name": "stdout",
     "output_type": "stream",
     "text": [
      "https://www.warsashsc.org.uk/results/18wa1.htm\n",
      "https://www.warsashsc.org.uk/results/18wa2.htm\n",
      "https://www.warsashsc.org.uk/results/18wa3.htm\n",
      "https://www.warsashsc.org.uk/results/18wa4.htm\n",
      "https://www.warsashsc.org.uk/results/18wa5.htm\n",
      "https://www.warsashsc.org.uk/results/18wa6.htm\n",
      "https://www.warsashsc.org.uk/results/18wa7.htm\n",
      "https://www.warsashsc.org.uk/results/18wa8.htm\n",
      "https://www.warsashsc.org.uk/results/18wb1.htm\n",
      "https://www.warsashsc.org.uk/results/18wb2.htm\n",
      "https://www.warsashsc.org.uk/results/18wb3.htm\n",
      "https://www.warsashsc.org.uk/results/18wb4.htm\n",
      "https://www.warsashsc.org.uk/results/18wb5.htm\n",
      "https://www.warsashsc.org.uk/results/18wb6.htm\n",
      "https://www.warsashsc.org.uk/results/18wb7.htm\n",
      "https://www.warsashsc.org.uk/results/18wb8.htm\n",
      "https://www.warsashsc.org.uk/results/18wc1.htm\n",
      "https://www.warsashsc.org.uk/results/18wc2.htm\n",
      "https://www.warsashsc.org.uk/results/18wc3.htm\n",
      "https://www.warsashsc.org.uk/results/18wc4.htm\n",
      "https://www.warsashsc.org.uk/results/18wc5.htm\n",
      "No racing\n",
      "https://www.warsashsc.org.uk/results/18wc6.htm\n",
      "No racing\n",
      "https://www.warsashsc.org.uk/results/18wc7.htm\n",
      "No racing\n",
      "https://www.warsashsc.org.uk/results/18wc8.htm\n",
      "No racing\n",
      "https://www.warsashsc.org.uk/results/18fa1.htm\n",
      "No racing\n",
      "https://www.warsashsc.org.uk/results/18fa2.htm\n",
      "No racing\n",
      "https://www.warsashsc.org.uk/results/18fa3.htm\n",
      "No racing\n",
      "https://www.warsashsc.org.uk/results/18fa4.htm\n",
      "No racing\n",
      "https://www.warsashsc.org.uk/results/18fa5.htm\n",
      "No racing\n",
      "https://www.warsashsc.org.uk/results/18fa6.htm\n",
      "No racing\n",
      "https://www.warsashsc.org.uk/results/18fa7.htm\n",
      "No racing\n",
      "https://www.warsashsc.org.uk/results/18fa8.htm\n",
      "https://www.warsashsc.org.uk/results/18fb1.htm\n",
      "https://www.warsashsc.org.uk/results/18fb2.htm\n",
      "https://www.warsashsc.org.uk/results/18fb3.htm\n",
      "https://www.warsashsc.org.uk/results/18fb4.htm\n",
      "https://www.warsashsc.org.uk/results/18fb5.htm\n",
      "https://www.warsashsc.org.uk/results/18fb6.htm\n",
      "https://www.warsashsc.org.uk/results/18fb7.htm\n",
      "https://www.warsashsc.org.uk/results/18fb8.htm\n",
      "https://www.warsashsc.org.uk/results/18fc1.htm\n",
      "https://www.warsashsc.org.uk/results/18fc2.htm\n",
      "https://www.warsashsc.org.uk/results/18fc3.htm\n",
      "https://www.warsashsc.org.uk/results/18fc4.htm\n",
      "https://www.warsashsc.org.uk/results/18fc5.htm\n",
      "https://www.warsashsc.org.uk/results/18fc6.htm\n",
      "https://www.warsashsc.org.uk/results/18fc7.htm\n",
      "https://www.warsashsc.org.uk/results/18fc8.htm\n"
     ]
    }
   ],
   "source": [
    "base_url = 'https://www.warsashsc.org.uk/results/18'\n",
    "series = ['wa', 'wb', 'wc', 'fa', 'fb', 'fc']\n",
    "\n",
    "all_races_frames = []\n",
    "\n",
    "for s in series:\n",
    "    for i in range(1, 9):\n",
    "        try:\n",
    "            race = scrape_race(base_url + s + str(i) + '.htm')\n",
    "        except:\n",
    "            print('No racing')\n",
    "        \n",
    "        for table in race:\n",
    "            df = get_dataframe_from(table)\n",
    "            df['Day'] = 'Wednesday'\n",
    "            df['Series'] = s[1]\n",
    "            df['Race'] = i\n",
    "            \n",
    "            all_races_frames.append(df)\n",
    "            \n",
    "all_races = pd.concat(all_races_frames)"
   ]
  },
  {
   "cell_type": "code",
   "execution_count": null,
   "metadata": {},
   "outputs": [],
   "source": [
    "(all_races['Elapsed'] == 'OCS').sum()"
   ]
  },
  {
   "cell_type": "code",
   "execution_count": null,
   "metadata": {},
   "outputs": [],
   "source": [
    "(all_races['Elapsed'] == 'Duty').sum()"
   ]
  },
  {
   "cell_type": "code",
   "execution_count": null,
   "metadata": {},
   "outputs": [],
   "source": [
    "(all_races['Elapsed'] == 'DNF').sum()"
   ]
  },
  {
   "cell_type": "code",
   "execution_count": null,
   "metadata": {},
   "outputs": [],
   "source": [
    "all_times = all_races[all_races['Elapsed'].notnull()]\n",
    "all_times.sum()"
   ]
  },
  {
   "cell_type": "markdown",
   "metadata": {},
   "source": []
  }
 ],
 "metadata": {
  "kernelspec": {
   "display_name": "Python 3",
   "language": "python",
   "name": "python3"
  },
  "language_info": {
   "codemirror_mode": {
    "name": "ipython",
    "version": 3.0
   },
   "file_extension": ".py",
   "mimetype": "text/x-python",
   "name": "python",
   "nbconvert_exporter": "python",
   "pygments_lexer": "ipython3",
   "version": "3.6.4"
  }
 },
 "nbformat": 4,
 "nbformat_minor": 0
}