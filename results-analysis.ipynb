{
 "cells": [
  {
   "cell_type": "code",
   "execution_count": 1,
   "metadata": {},
   "outputs": [],
   "source": [
    "import urllib.request\n",
    "from bs4 import BeautifulSoup\n",
    "import pandas as pd\n",
    "\n",
    "\n",
    "column_headings = [\"HelmName\", \"Class\", \"PY\", \"SailNo\", \"Fleet\", \"Rank\", \"Elapsed\", \"Corrected\", \"Points\", \"Reg No.\", \"Reg Date\"]\n",
    "alternative_headings = [\"HelmName\", \"Class\", \"PY\", \"SailNo\", \"Fleet\", \"Rank\", \"Place\", \"Points\", \"Reg No.\", \"Reg Date\"]\n",
    "\n",
    "def scrape_race(url):\n",
    "    \"\"\"Scrape all the results for a single race.\"\"\"\n",
    "    print(url)\n",
    "    with urllib.request.urlopen(url) as response:\n",
    "       html = response.read()\n",
    "    \n",
    "    soup = BeautifulSoup(html)\n",
    "    \n",
    "    tables = soup.findAll('table')\n",
    "    return tables[:4]\n",
    "\n",
    "\n",
    "def get_dataframe_from(table):\n",
    "    \"\"\"Turn a table into a data frame.\"\"\"\n",
    "    table_rows = table.find_all('tr')\n",
    "    l = []\n",
    "    for tr in table_rows[1:]:\n",
    "        td = tr.find_all('td')\n",
    "        row = [tr.text for tr in td]\n",
    "        l.append(row)\n",
    "        \n",
    "    # Different column headers are used if there were no results recorded in a fleet.\n",
    "    if l and len(l[0]) == 11:        \n",
    "        df = pd.DataFrame(l, columns=column_headings)\n",
    "    else:\n",
    "        df = pd.DataFrame(l, columns=alternative_headings)\n",
    "        \n",
    "    return df"
   ]
  },
  {
   "cell_type": "code",
   "execution_count": 2,
   "metadata": {},
   "outputs": [
    {
     "name": "stdout",
     "output_type": "stream",
     "text": [
      "https://www.warsashsc.org.uk/results/18wa1.htm\n",
      "https://www.warsashsc.org.uk/results/18wa2.htm\n",
      "https://www.warsashsc.org.uk/results/18wa3.htm\n",
      "https://www.warsashsc.org.uk/results/18wa4.htm\n",
      "https://www.warsashsc.org.uk/results/18wa5.htm\n",
      "https://www.warsashsc.org.uk/results/18wa6.htm\n",
      "https://www.warsashsc.org.uk/results/18wa7.htm\n",
      "https://www.warsashsc.org.uk/results/18wa8.htm\n",
      "https://www.warsashsc.org.uk/results/18wb1.htm\n",
      "https://www.warsashsc.org.uk/results/18wb2.htm\n",
      "https://www.warsashsc.org.uk/results/18wb3.htm\n",
      "https://www.warsashsc.org.uk/results/18wb4.htm\n",
      "https://www.warsashsc.org.uk/results/18wb5.htm\n",
      "https://www.warsashsc.org.uk/results/18wb6.htm\n",
      "https://www.warsashsc.org.uk/results/18wb7.htm\n",
      "https://www.warsashsc.org.uk/results/18wb8.htm\n",
      "https://www.warsashsc.org.uk/results/18wc1.htm\n",
      "https://www.warsashsc.org.uk/results/18wc2.htm\n",
      "https://www.warsashsc.org.uk/results/18wc3.htm\n",
      "https://www.warsashsc.org.uk/results/18wc4.htm\n",
      "https://www.warsashsc.org.uk/results/18wc5.htm\n",
      "No racing\n",
      "https://www.warsashsc.org.uk/results/18wc6.htm\n",
      "https://www.warsashsc.org.uk/results/18wc7.htm\n",
      "No racing\n",
      "https://www.warsashsc.org.uk/results/18wc8.htm\n",
      "No racing\n",
      "https://www.warsashsc.org.uk/results/18fa1.htm\n",
      "https://www.warsashsc.org.uk/results/18fa2.htm\n",
      "https://www.warsashsc.org.uk/results/18fa3.htm\n",
      "https://www.warsashsc.org.uk/results/18fa4.htm\n",
      "https://www.warsashsc.org.uk/results/18fa5.htm\n",
      "https://www.warsashsc.org.uk/results/18fa6.htm\n",
      "https://www.warsashsc.org.uk/results/18fa7.htm\n",
      "https://www.warsashsc.org.uk/results/18fa8.htm\n",
      "https://www.warsashsc.org.uk/results/18fb1.htm\n",
      "https://www.warsashsc.org.uk/results/18fb2.htm\n",
      "https://www.warsashsc.org.uk/results/18fb3.htm\n",
      "https://www.warsashsc.org.uk/results/18fb4.htm\n",
      "https://www.warsashsc.org.uk/results/18fb5.htm\n",
      "https://www.warsashsc.org.uk/results/18fb6.htm\n",
      "https://www.warsashsc.org.uk/results/18fb7.htm\n",
      "https://www.warsashsc.org.uk/results/18fb8.htm\n",
      "https://www.warsashsc.org.uk/results/18fc1.htm\n",
      "https://www.warsashsc.org.uk/results/18fc2.htm\n",
      "https://www.warsashsc.org.uk/results/18fc3.htm\n",
      "https://www.warsashsc.org.uk/results/18fc4.htm\n",
      "https://www.warsashsc.org.uk/results/18fc5.htm\n",
      "https://www.warsashsc.org.uk/results/18fc6.htm\n",
      "https://www.warsashsc.org.uk/results/18fc7.htm\n",
      "https://www.warsashsc.org.uk/results/18fc8.htm\n",
      "No racing\n"
     ]
    }
   ],
   "source": [
    "base_url = 'https://www.warsashsc.org.uk/results/18'\n",
    "series = ['wa', 'wb', 'wc', 'fa', 'fb', 'fc']\n",
    "\n",
    "all_races_frames = []\n",
    "\n",
    "for s in series:\n",
    "    for i in range(1, 9):\n",
    "        try:\n",
    "            race = scrape_race(base_url + s + str(i) + '.htm')\n",
    "        except:\n",
    "            print('No racing')\n",
    "        \n",
    "        for table in race:\n",
    "            df = get_dataframe_from(table)\n",
    "            df['Day'] = s[0]\n",
    "            df['Series'] = s[1]\n",
    "            df['Race'] = i\n",
    "            \n",
    "            all_races_frames.append(df)\n",
    "            \n",
    "all_races = pd.concat(all_races_frames, sort=True)"
   ]
  },
  {
   "cell_type": "code",
   "execution_count": 3,
   "metadata": {},
   "outputs": [
    {
     "data": {
      "text/plain": [
       "1468"
      ]
     },
     "execution_count": 3,
     "metadata": {},
     "output_type": "execute_result"
    }
   ],
   "source": [
    "len(all_races.index)"
   ]
  },
  {
   "cell_type": "code",
   "execution_count": 4,
   "metadata": {},
   "outputs": [
    {
     "data": {
      "text/plain": [
       "22"
      ]
     },
     "execution_count": 4,
     "metadata": {},
     "output_type": "execute_result"
    }
   ],
   "source": [
    "(all_races['Elapsed'] == 'OCS').sum()"
   ]
  },
  {
   "cell_type": "code",
   "execution_count": 5,
   "metadata": {},
   "outputs": [
    {
     "data": {
      "text/plain": [
       "95"
      ]
     },
     "execution_count": 5,
     "metadata": {},
     "output_type": "execute_result"
    }
   ],
   "source": [
    "(all_races['Elapsed'] == 'Duty').sum()"
   ]
  },
  {
   "cell_type": "code",
   "execution_count": 6,
   "metadata": {},
   "outputs": [
    {
     "data": {
      "text/plain": [
       "154"
      ]
     },
     "execution_count": 6,
     "metadata": {},
     "output_type": "execute_result"
    }
   ],
   "source": [
    "(all_races['Elapsed'] == 'DNF').sum()"
   ]
  },
  {
   "cell_type": "code",
   "execution_count": 11,
   "metadata": {},
   "outputs": [
    {
     "data": {
      "text/plain": [
       "1188"
      ]
     },
     "execution_count": 11,
     "metadata": {},
     "output_type": "execute_result"
    }
   ],
   "source": [
    "excluding_duties = all_races[~all_races['Elapsed'].isin(['Duty'])]\n",
    "len(excluding_duties.index)\n",
    "\n",
    "only_finishes = all_races[~all_races['Elapsed'].isin(['Duty', 'OCS', 'DNE', 'DNF', 'DSQ'])]\n",
    "len(only_finishes.index)"
   ]
  },
  {
   "cell_type": "code",
   "execution_count": null,
   "metadata": {},
   "outputs": [],
   "source": [
    "print(all_races)"
   ]
  },
  {
   "cell_type": "code",
   "execution_count": 13,
   "metadata": {},
   "outputs": [
    {
     "data": {
      "text/plain": [
       "34"
      ]
     },
     "execution_count": 13,
     "metadata": {},
     "output_type": "execute_result"
    }
   ],
   "source": [
    "only_finishes['Class'].nunique()"
   ]
  },
  {
   "cell_type": "code",
   "execution_count": 15,
   "metadata": {},
   "outputs": [
    {
     "data": {
      "text/plain": [
       "RS 400           186\n",
       "BLAZE            103\n",
       "RS AERO 7        102\n",
       "TOPPER            97\n",
       "FINN              95\n",
       "WAYFARER          95\n",
       "LASER 4.7         90\n",
       "BUZZ              66\n",
       "LASER RADIAL      60\n",
       "LASER PICO        43\n",
       "RS 200            42\n",
       "LASER 2000        40\n",
       "HADRON H2         35\n",
       "WANDERER          29\n",
       "STREAKER          28\n",
       "D ONE             27\n",
       "LASER             25\n",
       "NAT 12            23\n",
       "MIRROR            20\n",
       "RS FEVA XL        20\n",
       "GRADUATE          18\n",
       "CONTENDER         17\n",
       "420               17\n",
       "RS 300            16\n",
       "D ZERO            15\n",
       "KESTREL           12\n",
       "ALBACORE          11\n",
       "LASER STRATOS     10\n",
       "D ZERO BLUE        8\n",
       "LASER VAGO XD      6\n",
       "TASAR              5\n",
       "HOBIE 405          3\n",
       "RS AERO 5          3\n",
       "OSPREY             3\n",
       "LARK               1\n",
       "RS 100 8.4         1\n",
       "Hobie 405          1\n",
       "Name: Class, dtype: int64"
      ]
     },
     "execution_count": 15,
     "metadata": {},
     "output_type": "execute_result"
    }
   ],
   "source": [
    "excluding_duties['Class'].value_counts()"
   ]
  },
  {
   "cell_type": "code",
   "execution_count": null,
   "metadata": {},
   "outputs": [],
   "source": []
  }
 ],
 "metadata": {
  "kernelspec": {
   "display_name": "Python 3",
   "language": "python",
   "name": "python3"
  },
  "language_info": {
   "codemirror_mode": {
    "name": "ipython",
    "version": 3
   },
   "file_extension": ".py",
   "mimetype": "text/x-python",
   "name": "python",
   "nbconvert_exporter": "python",
   "pygments_lexer": "ipython3",
   "version": "3.6.4"
  }
 },
 "nbformat": 4,
 "nbformat_minor": 1
}
