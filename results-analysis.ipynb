{
 "cells": [
  {
   "cell_type": "markdown",
   "metadata": {},
   "source": [
    "# 2018 Results Analysis\n",
    "\n",
    "This notebook contains some analysis of the results of the 2018 season. It includes all Wednesday and Friday evening races over the season but excludes mayhems, pursuit races, club champs and winter series."
   ]
  },
  {
   "cell_type": "markdown",
   "metadata": {},
   "source": [
    "Start by defining some useful functions."
   ]
  },
  {
   "cell_type": "code",
   "execution_count": 1,
   "metadata": {},
   "outputs": [],
   "source": [
    "import urllib.request\n",
    "from bs4 import BeautifulSoup\n",
    "import pandas as pd\n",
    "import matplotlib.pyplot as plt\n",
    "import numpy as np\n",
    "\n",
    "\n",
    "column_headings = [\"HelmName\", \"Class\", \"PY\", \"SailNo\", \"Fleet\", \"Rank\", \"Elapsed\", \"Corrected\", \"Points\", \"Reg No.\", \"Reg Date\"]\n",
    "alternative_headings = [\"HelmName\", \"Class\", \"PY\", \"SailNo\", \"Fleet\", \"Rank\", \"Place\", \"Points\", \"Reg No.\", \"Reg Date\"]\n",
    "\n",
    "def scrape_race(url):\n",
    "    \"\"\"Scrape all the results for a single race.\"\"\"\n",
    "    print(url)\n",
    "    with urllib.request.urlopen(url) as response:\n",
    "       html = response.read()\n",
    "    \n",
    "    soup = BeautifulSoup(html)\n",
    "    \n",
    "    tables = soup.findAll('table')\n",
    "    return tables[:4]\n",
    "\n",
    "\n",
    "def get_dataframe_from(table):\n",
    "    \"\"\"Turn a table into a data frame.\"\"\"\n",
    "    table_rows = table.find_all('tr')\n",
    "    l = []\n",
    "    for tr in table_rows[1:]:\n",
    "        td = tr.find_all('td')\n",
    "        row = [tr.text for tr in td]\n",
    "        l.append(row)\n",
    "        \n",
    "    # Different column headers are used if there were no results recorded in a fleet.\n",
    "    if l and len(l[0]) == 11:        \n",
    "        df = pd.DataFrame(l, columns=column_headings)\n",
    "    else:\n",
    "        df = pd.DataFrame(l, columns=alternative_headings)\n",
    "        \n",
    "    return df"
   ]
  },
  {
   "cell_type": "markdown",
   "metadata": {},
   "source": [
    "Import all results for all Wednesday and Friday races."
   ]
  },
  {
   "cell_type": "code",
   "execution_count": 2,
   "metadata": {},
   "outputs": [
    {
     "name": "stdout",
     "output_type": "stream",
     "text": [
      "https://www.warsashsc.org.uk/results/18wa1.htm\n",
      "https://www.warsashsc.org.uk/results/18wa2.htm\n",
      "https://www.warsashsc.org.uk/results/18wa3.htm\n",
      "https://www.warsashsc.org.uk/results/18wa4.htm\n",
      "https://www.warsashsc.org.uk/results/18wa5.htm\n",
      "https://www.warsashsc.org.uk/results/18wa6.htm\n",
      "https://www.warsashsc.org.uk/results/18wa7.htm\n",
      "https://www.warsashsc.org.uk/results/18wa8.htm\n",
      "https://www.warsashsc.org.uk/results/18wb1.htm\n",
      "https://www.warsashsc.org.uk/results/18wb2.htm\n",
      "https://www.warsashsc.org.uk/results/18wb3.htm\n",
      "https://www.warsashsc.org.uk/results/18wb4.htm\n",
      "https://www.warsashsc.org.uk/results/18wb5.htm\n",
      "https://www.warsashsc.org.uk/results/18wb6.htm\n",
      "https://www.warsashsc.org.uk/results/18wb7.htm\n",
      "https://www.warsashsc.org.uk/results/18wb8.htm\n",
      "https://www.warsashsc.org.uk/results/18wc1.htm\n",
      "https://www.warsashsc.org.uk/results/18wc2.htm\n",
      "https://www.warsashsc.org.uk/results/18wc3.htm\n",
      "https://www.warsashsc.org.uk/results/18wc4.htm\n",
      "https://www.warsashsc.org.uk/results/18wc5.htm\n",
      "No racing\n",
      "https://www.warsashsc.org.uk/results/18wc6.htm\n",
      "https://www.warsashsc.org.uk/results/18wc7.htm\n",
      "No racing\n",
      "https://www.warsashsc.org.uk/results/18wc8.htm\n",
      "No racing\n",
      "https://www.warsashsc.org.uk/results/18fa1.htm\n",
      "https://www.warsashsc.org.uk/results/18fa2.htm\n",
      "https://www.warsashsc.org.uk/results/18fa3.htm\n",
      "https://www.warsashsc.org.uk/results/18fa4.htm\n",
      "https://www.warsashsc.org.uk/results/18fa5.htm\n",
      "https://www.warsashsc.org.uk/results/18fa6.htm\n",
      "https://www.warsashsc.org.uk/results/18fa7.htm\n",
      "https://www.warsashsc.org.uk/results/18fa8.htm\n",
      "https://www.warsashsc.org.uk/results/18fb1.htm\n",
      "https://www.warsashsc.org.uk/results/18fb2.htm\n",
      "https://www.warsashsc.org.uk/results/18fb3.htm\n",
      "https://www.warsashsc.org.uk/results/18fb4.htm\n",
      "https://www.warsashsc.org.uk/results/18fb5.htm\n",
      "https://www.warsashsc.org.uk/results/18fb6.htm\n",
      "https://www.warsashsc.org.uk/results/18fb7.htm\n",
      "https://www.warsashsc.org.uk/results/18fb8.htm\n",
      "https://www.warsashsc.org.uk/results/18fc1.htm\n",
      "https://www.warsashsc.org.uk/results/18fc2.htm\n",
      "https://www.warsashsc.org.uk/results/18fc3.htm\n",
      "https://www.warsashsc.org.uk/results/18fc4.htm\n",
      "https://www.warsashsc.org.uk/results/18fc5.htm\n",
      "https://www.warsashsc.org.uk/results/18fc6.htm\n",
      "https://www.warsashsc.org.uk/results/18fc7.htm\n",
      "https://www.warsashsc.org.uk/results/18fc8.htm\n",
      "No racing\n"
     ]
    }
   ],
   "source": [
    "base_url = 'https://www.warsashsc.org.uk/results/18'\n",
    "series = ['wa', 'wb', 'wc', 'fa', 'fb', 'fc']\n",
    "\n",
    "all_races_frames = []\n",
    "\n",
    "for s in series:\n",
    "    for i in range(1, 9):\n",
    "        try:\n",
    "            race = scrape_race(base_url + s + str(i) + '.htm')\n",
    "        except:\n",
    "            print('No racing')\n",
    "        \n",
    "        for table in race:\n",
    "            df = get_dataframe_from(table)\n",
    "            df['Day'] = s[0]\n",
    "            df['Series'] = s[1]\n",
    "            df['Race'] = i\n",
    "            \n",
    "            all_races_frames.append(df)\n",
    "            \n",
    "all_races = pd.concat(all_races_frames, sort=True)"
   ]
  },
  {
   "cell_type": "markdown",
   "metadata": {},
   "source": [
    "## Display Some Interesting Stats for all Races in 2018"
   ]
  },
  {
   "cell_type": "code",
   "execution_count": 3,
   "metadata": {},
   "outputs": [
    {
     "name": "stdout",
     "output_type": "stream",
     "text": [
      "There were a total of 1468 results recorded.\n",
      "There were a total of 22 OCSs.\n",
      "There were a total of 95 duties recorded.\n",
      "There were a total of 154 DNFs recorded.\n",
      "There were 1373 results posted excluding duties.\n",
      "There were 1188 finishes recorded.\n"
     ]
    }
   ],
   "source": [
    "print('There were a total of %i results recorded.' % len(all_races.index))\n",
    "\n",
    "print('There were a total of %i OCSs.' % (all_races['Elapsed'] == 'OCS').sum())\n",
    "\n",
    "print('There were a total of %i duties recorded.' %(all_races['Elapsed'] == 'Duty').sum())\n",
    "\n",
    "print('There were a total of %i DNFs recorded.' % (all_races['Elapsed'] == 'DNF').sum())\n",
    "\n",
    "excluding_duties = all_races[~all_races['Elapsed'].isin(['Duty'])]\n",
    "print('There were %i results posted excluding duties.' % len(excluding_duties.index))\n",
    "\n",
    "only_finishes = all_races[~all_races['Elapsed'].isin(['Duty', 'OCS', 'DNE', 'DNF', 'DSQ'])]\n",
    "print('There were %i finishes recorded.' % len(only_finishes.index))"
   ]
  },
  {
   "cell_type": "markdown",
   "metadata": {},
   "source": [
    "## Class Analysis"
   ]
  },
  {
   "cell_type": "code",
   "execution_count": 4,
   "metadata": {},
   "outputs": [
    {
     "name": "stdout",
     "output_type": "stream",
     "text": [
      "37 different classes raced in 2018\n"
     ]
    }
   ],
   "source": [
    "print('%i different classes raced in 2018' % excluding_duties['Class'].nunique())"
   ]
  },
  {
   "cell_type": "code",
   "execution_count": 5,
   "metadata": {},
   "outputs": [
    {
     "name": "stdout",
     "output_type": "stream",
     "text": [
      "{'WAYFARER': '1102', 'RS AERO 7': '1068', 'NAT 12': '1064', 'FINN': '1051', 'RS 200': '1046', 'HADRON H2': '1037', 'BLAZE': '1027', 'KESTREL': '1038', 'STREAKER': '1128', 'LASER 4.7': '1207', 'LASER RADIAL': '1142', 'WANDERER': '1190', 'MIRROR': '1390', 'TOPPER': '1358', 'RS 400': '942', 'D ONE': '948', 'BUZZ': '1023', 'LASER 2000': '1107', 'LASER': '1098', 'Hobie 405': '1089', 'RS FEVA XL': '1240', 'RS 300': '972', 'CONTENDER': '969', 'TASAR': '1015', 'D ZERO': '1029', '420': '1110', 'ALBACORE': '1038', 'D ZERO BLUE': '1064', 'HOBIE 405': '1089', 'OSPREY': '928', 'GRADUATE': '1129', 'LASER PICO': '1330', 'LASER STRATOS': '1100', 'RS 100 8.4': '1008', 'LASER VAGO XD': '1071', 'RS AERO 5': '1129', 'LARK': '1070'}\n",
      "RS 400           186\n",
      "BLAZE            103\n",
      "RS AERO 7        102\n",
      "TOPPER            97\n",
      "WAYFARER          95\n",
      "FINN              95\n",
      "LASER 4.7         90\n",
      "BUZZ              66\n",
      "LASER RADIAL      60\n",
      "LASER PICO        43\n",
      "RS 200            42\n",
      "LASER 2000        40\n",
      "HADRON H2         35\n",
      "WANDERER          29\n",
      "STREAKER          28\n",
      "D ONE             27\n",
      "LASER             25\n",
      "NAT 12            23\n",
      "RS FEVA XL        20\n",
      "MIRROR            20\n",
      "GRADUATE          18\n",
      "CONTENDER         17\n",
      "420               17\n",
      "RS 300            16\n",
      "D ZERO            15\n",
      "KESTREL           12\n",
      "ALBACORE          11\n",
      "LASER STRATOS     10\n",
      "D ZERO BLUE        8\n",
      "LASER VAGO XD      6\n",
      "TASAR              5\n",
      "OSPREY             3\n",
      "HOBIE 405          3\n",
      "RS AERO 5          3\n",
      "Hobie 405          1\n",
      "RS 100 8.4         1\n",
      "LARK               1\n",
      "Name: Class, dtype: int64\n"
     ]
    }
   ],
   "source": [
    "classes_frequency = excluding_duties['Class'].value_counts()\n",
    "py_by_class = {}\n",
    "\n",
    "for c in excluding_duties['Class'].unique():\n",
    "    py_by_class[c] = excluding_duties.loc[excluding_duties['Class'] == c, 'PY'].iloc[0]\n",
    "\n",
    "print(py_by_class)\n",
    "print(classes_frequency)"
   ]
  },
  {
   "cell_type": "code",
   "execution_count": 7,
   "metadata": {},
   "outputs": [
    {
     "data": {
      "text/plain": [
       "<BarContainer object of 37 artists>"
      ]
     },
     "execution_count": 7,
     "metadata": {},
     "output_type": "execute_result"
    },
    {
     "data": {
      "image/png": "[encoded data removed]",
      "text/plain": [
       "<Figure size 432x288 with 1 Axes>"
      ]
     },
     "metadata": {
      "needs_background": "light"
     },
     "output_type": "display_data"
    }
   ],
   "source": [
    "plt.bar(np.arange(len(classes_frequency)), excluding_duties['Class'].value_counts())"
   ]
  },
  {
   "cell_type": "code",
   "execution_count": null,
   "metadata": {},
   "outputs": [],
   "source": []
  }
 ],
 "metadata": {
  "kernelspec": {
   "display_name": "Python 3",
   "language": "python",
   "name": "python3"
  },
  "language_info": {
   "codemirror_mode": {
    "name": "ipython",
    "version": 3
   },
   "file_extension": ".py",
   "mimetype": "text/x-python",
   "name": "python",
   "nbconvert_exporter": "python",
   "pygments_lexer": "ipython3",
   "version": "3.6.4"
  }
 },
 "nbformat": 4,
 "nbformat_minor": 1
}
