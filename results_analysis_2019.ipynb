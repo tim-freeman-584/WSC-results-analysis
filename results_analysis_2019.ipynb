{
 "cells": [
  {
   "cell_type": "markdown",
   "metadata": {},
   "source": [
    "# 2019 Results Analysis\n",
    "\n",
    "This notebook contains some analysis of the results of the 2019 season. It includes all Wednesday and Friday evening races over the season but excludes mayhems, pursuit races, club champs and winter series."
   ]
  },
  {
   "cell_type": "code",
   "execution_count": 1,
   "metadata": {},
   "outputs": [],
   "source": [
    "import numpy as np\n",
    "import matplotlib.pyplot as plt\n",
    "plt.rcParams['figure.figsize'] = [20, 10]\n",
    "\n",
    "import results_analysis\n",
    "    \n",
    "\n",
    "fleets = ['Superfast', 'Fast', 'Medium', 'Slow']"
   ]
  },
  {
   "cell_type": "markdown",
   "metadata": {},
   "source": [
    "Import all results for all Wednesday and Friday races."
   ]
  },
  {
   "cell_type": "code",
   "execution_count": 2,
   "metadata": {
    "collapsed": true
   },
   "outputs": [
    {
     "name": "stdout",
     "output_type": "stream",
     "text": [
      "https://www.warsashsc.org.uk/results/19wa1.htm\n"
     ]
    },
    {
     "name": "stderr",
     "output_type": "stream",
     "text": [
      "C:\\Users\\Tim\\projects\\results-analysis-2018\\results_analysis.py:14: UserWarning: No parser was explicitly specified, so I'm using the best available HTML parser for this system (\"lxml\"). This usually isn't a problem, but if you run this code on another system, or in a different virtual environment, it may use a different parser and behave differently.\n\nThe code that caused this warning is on line 14 of the file C:\\Users\\Tim\\projects\\results-analysis-2018\\results_analysis.py. To get rid of this warning, pass the additional argument 'features=\"lxml\"' to the BeautifulSoup constructor.\n\n  soup = BeautifulSoup(html)\n"
     ]
    },
    {
     "name": "stdout",
     "output_type": "stream",
     "text": [
      "https://www.warsashsc.org.uk/results/19wa2.htm\nhttps://www.warsashsc.org.uk/results/19wa3.htm\n"
     ]
    },
    {
     "name": "stdout",
     "output_type": "stream",
     "text": [
      "https://www.warsashsc.org.uk/results/19wa4.htm\n"
     ]
    },
    {
     "name": "stdout",
     "output_type": "stream",
     "text": [
      "https://www.warsashsc.org.uk/results/19wa5.htm\n"
     ]
    },
    {
     "name": "stdout",
     "output_type": "stream",
     "text": [
      "https://www.warsashsc.org.uk/results/19wa6.htm\n"
     ]
    },
    {
     "name": "stdout",
     "output_type": "stream",
     "text": [
      "HTTP Error 404: Not Found\nNo racing\nhttps://www.warsashsc.org.uk/results/19wa7.htm\n"
     ]
    },
    {
     "name": "stdout",
     "output_type": "stream",
     "text": [
      "https://www.warsashsc.org.uk/results/19wa8.htm\n"
     ]
    },
    {
     "name": "stdout",
     "output_type": "stream",
     "text": [
      "https://www.warsashsc.org.uk/results/19wb1.htm\nhttps://www.warsashsc.org.uk/results/19wb2.htm\n"
     ]
    },
    {
     "name": "stdout",
     "output_type": "stream",
     "text": [
      "https://www.warsashsc.org.uk/results/19wb3.htm\nhttps://www.warsashsc.org.uk/results/19wb4.htm"
     ]
    },
    {
     "name": "stdout",
     "output_type": "stream",
     "text": [
      "\n"
     ]
    },
    {
     "name": "stdout",
     "output_type": "stream",
     "text": [
      "https://www.warsashsc.org.uk/results/19wb5.htm\n"
     ]
    },
    {
     "name": "stdout",
     "output_type": "stream",
     "text": [
      "https://www.warsashsc.org.uk/results/19wb6.htm\n"
     ]
    },
    {
     "name": "stdout",
     "output_type": "stream",
     "text": [
      "https://www.warsashsc.org.uk/results/19wb7.htm\n"
     ]
    },
    {
     "name": "stdout",
     "output_type": "stream",
     "text": [
      "https://www.warsashsc.org.uk/results/19wb8.htm\n"
     ]
    },
    {
     "name": "stdout",
     "output_type": "stream",
     "text": [
      "https://www.warsashsc.org.uk/results/19wc1.htm\nhttps://www.warsashsc.org.uk/results/19wc2.htm\n"
     ]
    },
    {
     "name": "stdout",
     "output_type": "stream",
     "text": [
      "https://www.warsashsc.org.uk/results/19wc3.htm\nhttps://www.warsashsc.org.uk/results/19wc4.htm"
     ]
    },
    {
     "name": "stdout",
     "output_type": "stream",
     "text": [
      "\n"
     ]
    },
    {
     "name": "stdout",
     "output_type": "stream",
     "text": [
      "https://www.warsashsc.org.uk/results/19wc5.htm\n"
     ]
    },
    {
     "name": "stdout",
     "output_type": "stream",
     "text": [
      "https://www.warsashsc.org.uk/results/19wc6.htm\n"
     ]
    },
    {
     "name": "stdout",
     "output_type": "stream",
     "text": [
      "https://www.warsashsc.org.uk/results/19wc7.htm\n"
     ]
    },
    {
     "name": "stdout",
     "output_type": "stream",
     "text": [
      "https://www.warsashsc.org.uk/results/19wc8.htm\n"
     ]
    },
    {
     "name": "stdout",
     "output_type": "stream",
     "text": [
      "https://www.warsashsc.org.uk/results/19fa1.htm\nhttps://www.warsashsc.org.uk/results/19fa2.htm\n"
     ]
    },
    {
     "name": "stdout",
     "output_type": "stream",
     "text": [
      "https://www.warsashsc.org.uk/results/19fa3.htm\nhttps://www.warsashsc.org.uk/results/19fa4.htm"
     ]
    },
    {
     "name": "stdout",
     "output_type": "stream",
     "text": [
      "\nhttps://www.warsashsc.org.uk/results/19fa5.htm"
     ]
    },
    {
     "name": "stdout",
     "output_type": "stream",
     "text": [
      "\nhttps://www.warsashsc.org.uk/results/19fa6.htm"
     ]
    },
    {
     "name": "stdout",
     "output_type": "stream",
     "text": [
      "\n"
     ]
    },
    {
     "name": "stdout",
     "output_type": "stream",
     "text": [
      "HTTP Error 404: Not Found\nNo racing\nhttps://www.warsashsc.org.uk/results/19fa7.htm\n"
     ]
    },
    {
     "name": "stdout",
     "output_type": "stream",
     "text": [
      "HTTP Error 404: Not Found\nNo racing\nhttps://www.warsashsc.org.uk/results/19fa8.htm\n"
     ]
    },
    {
     "name": "stdout",
     "output_type": "stream",
     "text": [
      "HTTP Error 404: Not Found\nNo racing\nhttps://www.warsashsc.org.uk/results/19fb1.htm\n"
     ]
    },
    {
     "name": "stdout",
     "output_type": "stream",
     "text": [
      "https://www.warsashsc.org.uk/results/19fb2.htm\nhttps://www.warsashsc.org.uk/results/19fb3.htm\n"
     ]
    },
    {
     "name": "stdout",
     "output_type": "stream",
     "text": [
      "https://www.warsashsc.org.uk/results/19fb4.htm\n"
     ]
    },
    {
     "name": "stdout",
     "output_type": "stream",
     "text": [
      "https://www.warsashsc.org.uk/results/19fb5.htm\nhttps://www.warsashsc.org.uk/results/19fb6.htm\n"
     ]
    },
    {
     "name": "stdout",
     "output_type": "stream",
     "text": [
      "https://www.warsashsc.org.uk/results/19fb7.htm\nhttps://www.warsashsc.org.uk/results/19fb8.htm\n"
     ]
    },
    {
     "name": "stdout",
     "output_type": "stream",
     "text": [
      "https://www.warsashsc.org.uk/results/19fc1.htm\nhttps://www.warsashsc.org.uk/results/19fc2.htm\n"
     ]
    },
    {
     "name": "stdout",
     "output_type": "stream",
     "text": [
      "https://www.warsashsc.org.uk/results/19fc3.htm\nhttps://www.warsashsc.org.uk/results/19fc4.htm\n"
     ]
    },
    {
     "name": "stdout",
     "output_type": "stream",
     "text": [
      "https://www.warsashsc.org.uk/results/19fc5.htm\nhttps://www.warsashsc.org.uk/results/19fc6.htm\n"
     ]
    },
    {
     "name": "stdout",
     "output_type": "stream",
     "text": [
      "https://www.warsashsc.org.uk/results/19fc7.htm\nhttps://www.warsashsc.org.uk/results/19fc8.htm\n"
     ]
    },
    {
     "name": "stdout",
     "output_type": "stream",
     "text": [
      "HTTP Error 404: Not Found\nNo racing\n"
     ]
    }
   ],
   "source": [
    "all_races, race_on = results_analysis.get_all_results_for_year(19)"
   ]
  },
  {
   "cell_type": "markdown",
   "metadata": {},
   "source": [
    "## Race Stats"
   ]
  },
  {
   "cell_type": "code",
   "execution_count": 3,
   "metadata": {},
   "outputs": [
    {
     "name": "stdout",
     "output_type": "stream",
     "text": [
      "There were a total of 1136 results recorded.\nThere were a total of 17 OCSs.\nThere were a total of 65 duties recorded.\nThere were a total of 121 DNFs recorded.\nThere were 1071 results posted excluding duties.\nThere were 930 finishes recorded.\n"
     ]
    }
   ],
   "source": [
    "print('There were a total of %i results recorded.' % len(all_races.index))\n",
    "\n",
    "print('There were a total of %i OCSs.' % (all_races['Elapsed'] == 'OCS').sum())\n",
    "\n",
    "print('There were a total of %i duties recorded.' %(all_races['Elapsed'] == 'Duty').sum())\n",
    "\n",
    "print('There were a total of %i DNFs recorded.' % (all_races['Elapsed'] == 'DNF').sum())\n",
    "\n",
    "excluding_duties = all_races[~all_races['Elapsed'].isin(['Duty'])]\n",
    "print('There were %i results posted excluding duties.' % len(excluding_duties.index))\n",
    "\n",
    "only_finishes = all_races[~all_races['Elapsed'].isin(['Duty', 'OCS', 'DNE', 'DNF', 'DSQ', 'AVG'])]\n",
    "print('There were %i finishes recorded.' % len(only_finishes.index))"
   ]
  },
  {
   "cell_type": "markdown",
   "metadata": {},
   "source": [
    "## Class Analysis"
   ]
  },
  {
   "cell_type": "code",
   "execution_count": 4,
   "metadata": {},
   "outputs": [
    {
     "name": "stdout",
     "output_type": "stream",
     "text": [
      "39 different classes raced in 2019\nRS 400           175\nRS AERO 7        151\nFINN              97\nWAYFARER          89\nBLAZE             72\nLASER RADIAL      62\nHADRON H2         43\nTOPPER            42\nRS 200            37\nWANDERER          34\nRS FEVA XL        24\nLASER 2000        21\nMIRROR            21\nSTREAKER          20\nBUZZ              19\nGRADUATE          18\nLASER PICO        17\nD ONE             16\nRS 300            14\nRS 600            12\nD ZERO            12\nLASER             10\nLaser 5000         8\nLASER 4.7          8\nLASER STRATOS      8\nKESTREL            7\nLASER 5000         7\nOSPREY             5\nALBACORE           4\nLASER VAGO         4\nRS 800             2\n420                2\nNAT 12             2\nRS Q'BA            2\nNATIONAL 12        2\nLEADER II          1\nSunSail            1\nRS VISION          1\nHOBIE 405          1\nName: Class, dtype: int64\n"
     ]
    }
   ],
   "source": [
    "classes_frequency = excluding_duties['Class'].value_counts()\n",
    "\n",
    "py_by_class = {}\n",
    "for c in excluding_duties['Class'].unique():\n",
    "    py_by_class[c] = excluding_duties.loc[excluding_duties['Class'] == c, 'PY'].iloc[0]\n",
    "\n",
    "print('%i different classes raced in 2019' % len(classes_frequency))\n",
    "print(classes_frequency)"
   ]
  },
  {
   "cell_type": "code",
   "execution_count": 5,
   "metadata": {},
   "outputs": [
    {
     "data": {
      "text/plain": [
       "Text(0.5, 1.0, 'Distribution of races completed by PY')"
      ]
     },
     "execution_count": 5,
     "metadata": {},
     "output_type": "execute_result"
    },
    {
     "data": {
      "image/png": "[encoded data removed]",
      "text/plain": [
       "<Figure size 432x288 with 1 Axes>"
      ]
     },
     "metadata": {},
     "output_type": "display_data"
    }
   ],
   "source": [
    "pys = excluding_duties['PY'].astype(int).tolist()\n",
    "\n",
    "plt.hist(pys, bins=30)\n",
    "plt.xlabel('PY')\n",
    "plt.xticks(np.arange(min(pys), max(pys), 50))\n",
    "plt.title('Distribution of races completed by PY')"
   ]
  },
  {
   "cell_type": "markdown",
   "metadata": {},
   "source": [
    "## Series Analysis"
   ]
  },
  {
   "cell_type": "code",
   "execution_count": 6,
   "metadata": {},
   "outputs": [
    {
     "name": "stdout",
     "output_type": "stream",
     "text": [
      "Wednesday series total results\nb    245\na    242\nc    187\nName: Series, dtype: int64\nFriday series total results\nb    148\nc    145\na    104\nName: Series, dtype: int64\n"
     ]
    }
   ],
   "source": [
    "print('Wednesday series total results')\n",
    "print(excluding_duties[excluding_duties['Day'] == 'w']['Series'].value_counts())\n",
    "print('Friday series total results')\n",
    "print(excluding_duties[excluding_duties['Day'] == 'f']['Series'].value_counts())"
   ]
  },
  {
   "cell_type": "code",
   "execution_count": 7,
   "metadata": {},
   "outputs": [],
   "source": [
    "# Count the numbers in each fleet in each Wednesday race.\n",
    "fleet_numbers = {}\n",
    "for fleet in fleets:\n",
    "    fleet_numbers[fleet] =[]\n",
    "\n",
    "wednesdays = excluding_duties[excluding_duties['Day'] == 'w']\n",
    "for s in ['a', 'b', 'c']:\n",
    "    wed_series = wednesdays[wednesdays['Series'] == s]\n",
    "    for r in range(1, 9):\n",
    "        race_numbers = wed_series[wed_series['Race'] == r]['Fleet'].value_counts()\n",
    "        for fleet in fleets:\n",
    "            if fleet in race_numbers:\n",
    "                fleet_numbers[fleet].append(race_numbers[fleet])\n",
    "            else:\n",
    "                fleet_numbers[fleet].append(0)"
   ]
  },
  {
   "cell_type": "code",
   "execution_count": 8,
   "metadata": {},
   "outputs": [
    {
     "name": "stdout",
     "output_type": "stream",
     "text": [
      "Superfast\nMin = 5\nMax = 15\nMean = 9.869565\nMedian = 10\n\nFast\nMin = 4\nMax = 21\nMean = 13.260870\nMedian = 15\n\nMedium\nMin = 1\nMax = 7\nMean = 3.521739\nMedian = 3\n\nSlow\nMin = 1\nMax = 5\nMean = 2.652174\nMedian = 2\n\n"
     ]
    }
   ],
   "source": [
    "for fleet in fleets:\n",
    "    # Remove cancelled races\n",
    "    frequencies = [n for i, n in enumerate(fleet_numbers[fleet]) if race_on[i]]\n",
    "                   \n",
    "    print(fleet)\n",
    "    print('Min = %i' % min(frequencies))\n",
    "    print('Max = %i' % max(frequencies))\n",
    "    print('Mean = %f' % np.mean(frequencies))\n",
    "    print('Median = %i' % np.median(frequencies))\n",
    "    print()"
   ]
  },
  {
   "cell_type": "code",
   "execution_count": 9,
   "metadata": {},
   "outputs": [
    {
     "data": {
      "text/plain": [
       "Text(0.5, 1.0, 'Numbers in Each Fleet on Wednesdays')"
      ]
     },
     "execution_count": 9,
     "metadata": {},
     "output_type": "execute_result"
    },
    {
     "data": {
      "image/png": "[encoded data removed]",
      "text/plain": [
       "<Figure size 432x288 with 1 Axes>"
      ]
     },
     "metadata": {},
     "output_type": "display_data"
    }
   ],
   "source": [
    "for fleet in fleets:\n",
    "    plt.plot((fleet_numbers[fleet]), label=fleet)\n",
    "plt.legend(fleets)\n",
    "plt.xlabel('Race')\n",
    "plt.ylabel('Number in Fleet')\n",
    "plt.title('Numbers in Each Fleet on Wednesdays')"
   ]
  },
  {
   "cell_type": "markdown",
   "metadata": {},
   "source": [
    "## Race Lengths"
   ]
  },
  {
   "cell_type": "code",
   "execution_count": 10,
   "metadata": {},
   "outputs": [],
   "source": [
    "ftr = [3600, 60, 1]\n",
    "i = 0\n",
    "lengths_by_fleet = {}\n",
    "for fleet in fleets:\n",
    "    lengths_by_fleet[fleet] =[]\n",
    "    \n",
    "wednesday_finishes = only_finishes[only_finishes['Day'] == 'w']\n",
    "for s in ['a', 'b', 'c']:\n",
    "    wed_series = wednesday_finishes[wednesday_finishes['Series'] == s]\n",
    "    for r in range(1, 9):\n",
    "        if race_on[i]:\n",
    "            results_for_race = wed_series[wed_series['Race'] == r]\n",
    "            for fleet in fleets:\n",
    "                results_for_fleet = results_for_race[results_for_race['Fleet'] == fleet]\n",
    "                for i, result in results_for_fleet.iterrows():\n",
    "                    try:\n",
    "                        time_in_s = sum([a*b for a,b in zip(ftr, map(int, result['Elapsed'].split(':')))])\n",
    "                        lengths_by_fleet[fleet].append(time_in_s)\n",
    "                    except Exception as e:\n",
    "                        pass\n",
    "    i += 1"
   ]
  },
  {
   "cell_type": "code",
   "execution_count": 11,
   "metadata": {},
   "outputs": [
    {
     "name": "stdout",
     "output_type": "stream",
     "text": [
      "Superfast\nMin = 1783\nMax = 5783\nMean = 3919.756614\nMedian = 3935\n\nFast\nMin = 1257\nMax = 5005\nMean = 3535.743295\nMedian = 3748\n\nMedium\nMin = 1440\nMax = 4469\nMean = 2897.031746\nMedian = 2865\n\nSlow\nMin = 1335\nMax = 4410\nMean = 3009.869565\nMedian = 2938\n\n"
     ]
    }
   ],
   "source": [
    "for fleet in fleets:                  \n",
    "    print(fleet)\n",
    "    print('Min = %i' % min(lengths_by_fleet[fleet]))\n",
    "    print('Max = %i' % max(lengths_by_fleet[fleet]))\n",
    "    print('Mean = %f' % np.mean(lengths_by_fleet[fleet]))\n",
    "    print('Median = %i' % np.median(lengths_by_fleet[fleet]))\n",
    "    print()"
   ]
  },
  {
   "cell_type": "code",
   "execution_count": 12,
   "metadata": {},
   "outputs": [
    {
     "data": {
      "text/plain": [
       "Text(0.5, 1.0, 'Distribution of Wednesday Race Times for Superfast')"
      ]
     },
     "execution_count": 12,
     "metadata": {},
     "output_type": "execute_result"
    },
    {
     "data": {
      "image/png": "[encoded data removed]",
      "text/plain": [
       "<Figure size 432x288 with 1 Axes>"
      ]
     },
     "metadata": {},
     "output_type": "display_data"
    }
   ],
   "source": [
    "plt.hist(lengths_by_fleet['Superfast'], bins=20)\n",
    "plt.title('Distribution of Wednesday Race Times for Superfast')"
   ]
  },
  {
   "cell_type": "code",
   "execution_count": 14,
   "metadata": {},
   "outputs": [
    {
     "data": {
      "text/plain": [
       "Text(0.5, 1.0, 'Distribution of Wednesday Race Times for Fast')"
      ]
     },
     "execution_count": 14,
     "metadata": {},
     "output_type": "execute_result"
    },
    {
     "data": {
      "image/png": "[encoded data removed]",
      "text/plain": [
       "<Figure size 432x288 with 1 Axes>"
      ]
     },
     "metadata": {},
     "output_type": "display_data"
    }
   ],
   "source": [
    "plt.hist(lengths_by_fleet['Fast'], bins=20)\n",
    "plt.title('Distribution of Wednesday Race Times for Fast')"
   ]
  },
  {
   "cell_type": "code",
   "execution_count": 17,
   "metadata": {},
   "outputs": [
    {
     "data": {
      "text/plain": [
       "Text(0.5, 1.0, 'Distribution of Wednesday Race Times for Medium')"
      ]
     },
     "execution_count": 17,
     "metadata": {},
     "output_type": "execute_result"
    },
    {
     "data": {
      "image/png": "[encoded data removed]",
      "text/plain": [
       "<Figure size 432x288 with 1 Axes>"
      ]
     },
     "metadata": {},
     "output_type": "display_data"
    }
   ],
   "source": [
    "plt.hist(lengths_by_fleet['Medium'], bins=20)\n",
    "plt.title('Distribution of Wednesday Race Times for Medium')"
   ]
  },
  {
   "cell_type": "code",
   "execution_count": 21,
   "metadata": {},
   "outputs": [
    {
     "data": {
      "text/plain": [
       "Text(0.5, 1.0, 'Distribution of Wednesday Race Times for Slow')"
      ]
     },
     "execution_count": 21,
     "metadata": {},
     "output_type": "execute_result"
    },
    {
     "data": {
      "image/png": "[encoded data removed]",
      "text/plain": [
       "<Figure size 432x288 with 1 Axes>"
      ]
     },
     "metadata": {},
     "output_type": "display_data"
    }
   ],
   "source": [
    "plt.hist(lengths_by_fleet['Slow'], bins=20)\n",
    "plt.title('Distribution of Wednesday Race Times for Slow')"
   ]
  },
  {
   "cell_type": "markdown",
   "metadata": {},
   "source": [
    "## Sailors"
   ]
  },
  {
   "cell_type": "code",
   "execution_count": 22,
   "metadata": {},
   "outputs": [
    {
     "ename": "NameError",
     "evalue": "name 'pd' is not defined",
     "traceback": [
      "\u001b[0;31m---------------------------------------------------------------------------\u001b[0m",
      "\u001b[0;31mNameError\u001b[0m                                 Traceback (most recent call last)",
      "\u001b[0;32m<ipython-input-22-74bf29bf78af>\u001b[0m in \u001b[0;36m<module>\u001b[0;34m()\u001b[0m\n\u001b[0;32m----> 1\u001b[0;31m \u001b[0mpd\u001b[0m\u001b[0;34m.\u001b[0m\u001b[0moptions\u001b[0m\u001b[0;34m.\u001b[0m\u001b[0mdisplay\u001b[0m\u001b[0;34m.\u001b[0m\u001b[0mmax_rows\u001b[0m \u001b[0;34m=\u001b[0m \u001b[0;36m4000\u001b[0m\u001b[0;34m\u001b[0m\u001b[0m\n\u001b[0m\u001b[1;32m      2\u001b[0m \u001b[0mexcluding_duties\u001b[0m\u001b[0;34m[\u001b[0m\u001b[0;34m'HelmName'\u001b[0m\u001b[0;34m]\u001b[0m\u001b[0;34m.\u001b[0m\u001b[0mvalue_counts\u001b[0m\u001b[0;34m(\u001b[0m\u001b[0;34m)\u001b[0m\u001b[0;34m\u001b[0m\u001b[0m\n",
      "\u001b[0;31mNameError\u001b[0m: name 'pd' is not defined"
     ],
     "output_type": "error"
    }
   ],
   "source": [
    "pd.options.display.max_rows = 4000\n",
    "excluding_duties['HelmName'].value_counts()"
   ]
  },
  {
   "cell_type": "markdown",
   "metadata": {},
   "source": [
    "## 2019 Fleet Proposals"
   ]
  },
  {
   "cell_type": "code",
   "execution_count": 23,
   "metadata": {},
   "outputs": [],
   "source": [
    "def display_fleet_proposal_stats(fast, medium, slow):\n",
    "    \"\"\"Display fleet stats for a given proposal.\"\"\"\n",
    "    fleet_numbers = {}\n",
    "    for fleet in fleets:\n",
    "        fleet_numbers[fleet] =[]\n",
    "\n",
    "    wednesdays = excluding_duties[excluding_duties['Day'] == 'w']\n",
    "    for s in ['a', 'b', 'c']:\n",
    "        wed_series = wednesdays[wednesdays['Series'] == s]\n",
    "        for r in range(1, 9):\n",
    "            for fleet in fleets:\n",
    "                fleet_numbers[fleet].append(0)\n",
    "            for i, result in wed_series[wed_series['Race'] == r].iterrows():\n",
    "                py = int(result['PY'])\n",
    "                if py < fast:\n",
    "                    fleet = 'Superfast'\n",
    "                elif py < medium:\n",
    "                    fleet = 'Fast'\n",
    "                elif py < slow:\n",
    "                    fleet = 'Medium'\n",
    "                else:\n",
    "                    fleet = 'Slow'\n",
    "                fleet_numbers[fleet][-1] += 1\n",
    "                    \n",
    "    for fleet in fleets:\n",
    "        # Remove cancelled races\n",
    "        frequencies = [n for i, n in enumerate(fleet_numbers[fleet]) if race_on[i]]\n",
    "\n",
    "        print(fleet)\n",
    "        print('Min = %i' % min(frequencies))\n",
    "        print('Max = %i' % max(frequencies))\n",
    "        print('Mean = %f' % np.mean(frequencies))\n",
    "        print('Median = %i' % np.median(frequencies))\n",
    "        print()"
   ]
  },
  {
   "cell_type": "code",
   "execution_count": 26,
   "metadata": {},
   "outputs": [
    {
     "name": "stdout",
     "output_type": "stream",
     "text": [
      "Superfast\nMin = 4\nMax = 15\nMean = 9.304348\nMedian = 10\n\nFast\nMin = 6\nMax = 21\nMean = 13.826087\nMedian = 15\n\nMedium\nMin = 1\nMax = 7\nMean = 3.521739\nMedian = 3\n\nSlow\nMin = 1\nMax = 5\nMean = 2.652174\nMedian = 2\n\n"
     ]
    }
   ],
   "source": [
    "display_fleet_proposal_stats(1030, 1110, 1210)"
   ]
  },
  {
   "cell_type": "code",
   "execution_count": null,
   "metadata": {},
   "outputs": [],
   "source": []
  }
 ],
 "metadata": {
  "kernelspec": {
   "display_name": "Python 3",
   "language": "python",
   "name": "python3"
  },
  "language_info": {
   "codemirror_mode": {
    "name": "ipython",
    "version": 3
   },
   "file_extension": ".py",
   "mimetype": "text/x-python",
   "name": "python",
   "nbconvert_exporter": "python",
   "pygments_lexer": "ipython3",
   "version": "3.6.3"
  }
 },
 "nbformat": 4,
 "nbformat_minor": 1
}
